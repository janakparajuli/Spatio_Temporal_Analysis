{
 "cells": [
  {
   "cell_type": "code",
   "execution_count": null,
   "id": "7f18ec02-1331-4570-ab5e-d7d49506ff11",
   "metadata": {},
   "outputs": [],
   "source": []
  },
  {
   "cell_type": "code",
   "execution_count": 1,
   "id": "250b354b-ef6d-4a65-b9d9-48f8b6966af1",
   "metadata": {},
   "outputs": [],
   "source": [
    "import numpy as np\n",
    "import pandas as pd\n",
    "import matplotlib.pyplot as plt\n",
    "from sklearn.model_selection import train_test_split\n",
    "from sklearn.metrics import mean_squared_error, r2_score\n",
    "from tensorflow.keras.models import Sequential\n",
    "from tensorflow.keras.layers import ConvLSTM2D, Dense, BatchNormalization, MaxPooling3D, Flatten\n",
    "from tensorflow.keras.optimizers import Adam\n",
    "from shapely.geometry import Point\n",
    "import geopandas as gpd\n",
    "import os\n",
    "import random"
   ]
  },
  {
   "cell_type": "code",
   "execution_count": 2,
   "id": "f830b785-0a56-4646-9b69-5c33dac6d413",
   "metadata": {},
   "outputs": [],
   "source": [
    "# Load the data from CSV file\n",
    "data = pd.read_csv(r\"./Daily_HAI_Mean.csv\")\n",
    "\n",
    "# Preprocess the data\n",
    "data['date'] = pd.to_datetime(data['ds'])\n",
    "data['latitude'] = (data['Lat'] - data['Lat'].min()) / (data['Lat'].max() - data['Lat'].min())\n",
    "data['longitude'] = (data['Lon'] - data['Lon'].min()) / (data['Lon'].max() - data['Lon'].min())\n",
    "data['activity_index'] = (data['y'] - data['y'].min()) / (data['y'].max() - data['y'].min())"
   ]
  },
  {
   "cell_type": "code",
   "execution_count": null,
   "id": "db78f33d-7a91-4ec3-ab54-35076f42716a",
   "metadata": {},
   "outputs": [],
   "source": [
    "data.head()"
   ]
  },
  {
   "cell_type": "code",
   "execution_count": 12,
   "id": "ad21e737-4b67-418e-9f1d-69c3277f09c9",
   "metadata": {},
   "outputs": [],
   "source": [
    "# Split data into train and test sets (considering dates)\n",
    "train_data, test_data = train_test_split(data, test_size=0.2, random_state=42)\n",
    "\n",
    "# Define parameters\n",
    "seq_length = 7  # Length of sequence for each sample\n",
    "n_features = 3  # Number of features (latitude, longitude, activity_index)\n",
    "n_filters = 4  # Number of filters in ConvLSTM layers\n",
    "kernel_size = (1, 1)  # Kernel size for ConvLSTM layers"
   ]
  },
  {
   "cell_type": "code",
   "execution_count": 13,
   "id": "3b61c36a-21e4-4cce-8100-a9f775527a17",
   "metadata": {},
   "outputs": [
    {
     "ename": "NameError",
     "evalue": "name 'X' is not defined",
     "output_type": "error",
     "traceback": [
      "\u001b[1;31m---------------------------------------------------------------------------\u001b[0m",
      "\u001b[1;31mNameError\u001b[0m                                 Traceback (most recent call last)",
      "Cell \u001b[1;32mIn[13], line 1\u001b[0m\n\u001b[1;32m----> 1\u001b[0m \u001b[43mX\u001b[49m\n",
      "\u001b[1;31mNameError\u001b[0m: name 'X' is not defined"
     ]
    }
   ],
   "source": [
    "X"
   ]
  },
  {
   "cell_type": "code",
   "execution_count": 14,
   "id": "61f971ad-1b45-4229-83d0-482d813e9d95",
   "metadata": {},
   "outputs": [],
   "source": [
    "# Prepare the data for ConvLSTM\n",
    "def prepare_data(data, include_target=True):\n",
    "    X = []\n",
    "    y = []\n",
    "    data = data.sort_values(by='date')  # Sort data by date\n",
    "    for i in range(len(data) - seq_length):\n",
    "        X.append(data[['latitude', 'longitude', 'activity_index']].iloc[i:i+seq_length].values)\n",
    "        if include_target:\n",
    "            y.append(data['activity_index'].iloc[i+seq_length])\n",
    "    X = np.array(X)\n",
    "    #print(X)\n",
    "    if include_target:\n",
    "        y = np.array(y)\n",
    "        return X, y\n",
    "    return X, None"
   ]
  },
  {
   "cell_type": "code",
   "execution_count": 15,
   "id": "21e50ace-63bc-4b82-b90f-417fa493b33c",
   "metadata": {},
   "outputs": [
    {
     "name": "stdout",
     "output_type": "stream",
     "text": [
      "Before reshaping:\n",
      "X_train shape: (285, 7, 3)\n",
      "X_test shape: (67, 7, 3)\n",
      "After reshaping:\n",
      "X_train shape: (285, 7, 1, 3, 1)\n",
      "X_test shape: (67, 7, 1, 3, 1)\n"
     ]
    }
   ],
   "source": [
    "X_train, y_train = prepare_data(train_data)\n",
    "X_test, y_test = prepare_data(test_data)\n",
    "\n",
    "# Reshape the data for ConvLSTM\n",
    "print(\"Before reshaping:\")\n",
    "print(\"X_train shape:\", X_train.shape)\n",
    "print(\"X_test shape:\", X_test.shape)\n",
    "\n",
    "X_train = X_train.reshape(-1, seq_length, 1, n_features, 1)\n",
    "X_test = X_test.reshape(-1, seq_length, 1, n_features, 1)\n",
    "\n",
    "print(\"After reshaping:\")\n",
    "print(\"X_train shape:\", X_train.shape)\n",
    "print(\"X_test shape:\", X_test.shape)\n"
   ]
  },
  {
   "cell_type": "code",
   "execution_count": 16,
   "id": "507466c0-bdb3-44ef-b482-52965d3d6452",
   "metadata": {},
   "outputs": [],
   "source": [
    "# Build the ConvLSTM model\n",
    "model = Sequential([\n",
    "    ConvLSTM2D(filters=n_filters, kernel_size=kernel_size, activation='relu', input_shape=(seq_length, 1, n_features, 1), return_sequences=True),\n",
    "    BatchNormalization(),\n",
    "    #MaxPooling3D(pool_size=(1, 1, 1)),\n",
    "    \n",
    "    ConvLSTM2D(filters=2*n_filters, kernel_size=kernel_size, activation='relu', return_sequences=True),\n",
    "    BatchNormalization(),\n",
    "    #MaxPooling3D(pool_size=(1, 1, 1)),\n",
    "    \n",
    "    ConvLSTM2D(filters=4*n_filters, kernel_size=kernel_size, activation='relu', return_sequences=True),\n",
    "    BatchNormalization(),\n",
    "    #MaxPooling3D(pool_size=(1, 1, 1)),\n",
    "    \n",
    "    ConvLSTM2D(filters=8*n_filters, kernel_size=kernel_size, activation='relu', return_sequences=True),\n",
    "    BatchNormalization(),\n",
    "    #MaxPooling3D(pool_size=(1, 1, 1)),\n",
    "    \n",
    "    ConvLSTM2D(filters=16*n_filters, kernel_size=kernel_size, activation='relu'),\n",
    "    BatchNormalization(),\n",
    "    #MaxPooling3D(pool_size=(1, 1, 1)),\n",
    "    \n",
    "    Dense(1)  # Output layer\n",
    "])"
   ]
  },
  {
   "cell_type": "code",
   "execution_count": 17,
   "id": "1494c5f6-599c-4176-ab07-874696f2faf1",
   "metadata": {},
   "outputs": [
    {
     "name": "stdout",
     "output_type": "stream",
     "text": [
      "Model: \"sequential_1\"\n",
      "_________________________________________________________________\n",
      " Layer (type)                Output Shape              Param #   \n",
      "=================================================================\n",
      " conv_lstm2d_5 (ConvLSTM2D)  (None, 7, 1, 3, 4)        96        \n",
      "                                                                 \n",
      " batch_normalization_5 (Bat  (None, 7, 1, 3, 4)        16        \n",
      " chNormalization)                                                \n",
      "                                                                 \n",
      " conv_lstm2d_6 (ConvLSTM2D)  (None, 7, 1, 3, 8)        416       \n",
      "                                                                 \n",
      " batch_normalization_6 (Bat  (None, 7, 1, 3, 8)        32        \n",
      " chNormalization)                                                \n",
      "                                                                 \n",
      " conv_lstm2d_7 (ConvLSTM2D)  (None, 7, 1, 3, 16)       1600      \n",
      "                                                                 \n",
      " batch_normalization_7 (Bat  (None, 7, 1, 3, 16)       64        \n",
      " chNormalization)                                                \n",
      "                                                                 \n",
      " conv_lstm2d_8 (ConvLSTM2D)  (None, 7, 1, 3, 32)       6272      \n",
      "                                                                 \n",
      " batch_normalization_8 (Bat  (None, 7, 1, 3, 32)       128       \n",
      " chNormalization)                                                \n",
      "                                                                 \n",
      " conv_lstm2d_9 (ConvLSTM2D)  (None, 1, 3, 64)          24832     \n",
      "                                                                 \n",
      " batch_normalization_9 (Bat  (None, 1, 3, 64)          256       \n",
      " chNormalization)                                                \n",
      "                                                                 \n",
      " dense_1 (Dense)             (None, 1, 3, 1)           65        \n",
      "                                                                 \n",
      "=================================================================\n",
      "Total params: 33777 (131.94 KB)\n",
      "Trainable params: 33529 (130.97 KB)\n",
      "Non-trainable params: 248 (992.00 Byte)\n",
      "_________________________________________________________________\n"
     ]
    }
   ],
   "source": [
    "model.summary()"
   ]
  },
  {
   "cell_type": "code",
   "execution_count": 18,
   "id": "65b92a84-1b5a-473d-9472-49e7a1fd849b",
   "metadata": {},
   "outputs": [
    {
     "name": "stdout",
     "output_type": "stream",
     "text": [
      "Epoch 1/25\n",
      "9/9 [==============================] - 10s 124ms/step - loss: 0.4748 - val_loss: 0.1514\n",
      "Epoch 2/25\n",
      "9/9 [==============================] - 0s 30ms/step - loss: 0.2156 - val_loss: 0.1038\n",
      "Epoch 3/25\n",
      "9/9 [==============================] - 0s 29ms/step - loss: 0.1387 - val_loss: 0.0681\n",
      "Epoch 4/25\n",
      "9/9 [==============================] - 0s 30ms/step - loss: 0.1034 - val_loss: 0.0474\n",
      "Epoch 5/25\n",
      "9/9 [==============================] - 0s 29ms/step - loss: 0.0746 - val_loss: 0.0362\n",
      "Epoch 6/25\n",
      "9/9 [==============================] - 0s 30ms/step - loss: 0.0582 - val_loss: 0.0317\n",
      "Epoch 7/25\n",
      "9/9 [==============================] - 0s 30ms/step - loss: 0.0499 - val_loss: 0.0302\n",
      "Epoch 8/25\n",
      "9/9 [==============================] - 0s 30ms/step - loss: 0.0483 - val_loss: 0.0298\n",
      "Epoch 9/25\n",
      "9/9 [==============================] - 0s 30ms/step - loss: 0.0473 - val_loss: 0.0297\n",
      "Epoch 10/25\n",
      "9/9 [==============================] - 0s 30ms/step - loss: 0.0470 - val_loss: 0.0297\n",
      "Epoch 11/25\n",
      "9/9 [==============================] - 0s 28ms/step - loss: 0.0445 - val_loss: 0.0297\n",
      "Epoch 12/25\n",
      "9/9 [==============================] - 0s 29ms/step - loss: 0.0406 - val_loss: 0.0297\n",
      "Epoch 13/25\n",
      "9/9 [==============================] - 0s 29ms/step - loss: 0.0397 - val_loss: 0.0297\n",
      "Epoch 14/25\n",
      "9/9 [==============================] - 0s 28ms/step - loss: 0.0396 - val_loss: 0.0297\n",
      "Epoch 15/25\n",
      "9/9 [==============================] - 0s 30ms/step - loss: 0.0395 - val_loss: 0.0296\n",
      "Epoch 16/25\n",
      "9/9 [==============================] - 0s 30ms/step - loss: 0.0405 - val_loss: 0.0296\n",
      "Epoch 17/25\n",
      "9/9 [==============================] - 0s 30ms/step - loss: 0.0410 - val_loss: 0.0296\n",
      "Epoch 18/25\n",
      "9/9 [==============================] - 0s 30ms/step - loss: 0.0409 - val_loss: 0.0297\n",
      "Epoch 19/25\n",
      "9/9 [==============================] - 0s 28ms/step - loss: 0.0407 - val_loss: 0.0296\n",
      "Epoch 20/25\n",
      "9/9 [==============================] - 0s 28ms/step - loss: 0.0386 - val_loss: 0.0297\n",
      "Epoch 21/25\n",
      "9/9 [==============================] - 0s 29ms/step - loss: 0.0377 - val_loss: 0.0297\n",
      "Epoch 22/25\n",
      "9/9 [==============================] - 0s 30ms/step - loss: 0.0386 - val_loss: 0.0296\n",
      "Epoch 23/25\n",
      "9/9 [==============================] - 0s 33ms/step - loss: 0.0385 - val_loss: 0.0298\n",
      "Epoch 24/25\n",
      "9/9 [==============================] - 0s 31ms/step - loss: 0.0369 - val_loss: 0.0299\n",
      "Epoch 25/25\n",
      "9/9 [==============================] - 0s 31ms/step - loss: 0.0366 - val_loss: 0.0299\n"
     ]
    },
    {
     "name": "stderr",
     "output_type": "stream",
     "text": [
      "C:\\Users\\janak\\anaconda3\\envs\\python38\\lib\\site-packages\\keras\\src\\engine\\training.py:3000: UserWarning: You are saving your model as an HDF5 file via `model.save()`. This file format is considered legacy. We recommend using instead the native Keras format, e.g. `model.save('my_model.keras')`.\n",
      "  saving_api.save_model(\n"
     ]
    }
   ],
   "source": [
    "# Compile the model\n",
    "batch_size = 32\n",
    "model.compile(optimizer=Adam(), loss='mse')\n",
    "\n",
    "# Train the model\n",
    "history = model.fit(X_train, y_train, epochs=25, batch_size=batch_size, validation_data=(X_test, y_test), verbose = 1)\n",
    "# Define the filename with hyperparameters\n",
    "filename = f\"ConvLSTM_model_filters_{n_filters}_kernel_{kernel_size}_seq_{seq_length}_batch_size_{batch_size}.h5\"\n",
    "\n",
    "# Save the model\n",
    "model.save(filename)\n"
   ]
  },
  {
   "cell_type": "code",
   "execution_count": 20,
   "id": "1ddc784b-7cf5-4fcb-a9d5-89e02a285c3d",
   "metadata": {},
   "outputs": [
    {
     "data": {
      "image/png": "[encoded data removed]",
      "text/plain": [
       "<Figure size 640x480 with 1 Axes>"
      ]
     },
     "metadata": {},
     "output_type": "display_data"
    }
   ],
   "source": [
    "# Plot loss vs validation loss\n",
    "plt.plot(history.history['loss'], label='Loss')\n",
    "plt.plot(history.history['val_loss'], label='Validation Loss')\n",
    "plt.xlabel('Epoch')\n",
    "plt.ylabel('Loss')\n",
    "plt.title('Training Loss vs Validation Loss')\n",
    "plt.legend()\n",
    "plt.show()"
   ]
  },
  {
   "cell_type": "code",
   "execution_count": 21,
   "id": "043eea63-b308-4816-8cf1-11191daafb56",
   "metadata": {},
   "outputs": [
    {
     "name": "stdout",
     "output_type": "stream",
     "text": [
      "3/3 [==============================] - 0s 7ms/step - loss: 0.0299\n",
      "Test Loss: 0.029907144606113434\n",
      "3/3 [==============================] - 1s 3ms/step\n",
      "0.03035637816420649 -0.02327205079886996\n"
     ]
    }
   ],
   "source": [
    "# Evaluate the model\n",
    "loss = model.evaluate(X_test, y_test)\n",
    "print(\"Test Loss:\", loss)\n",
    "\n",
    "# Make predictions\n",
    "y_pred = model.predict(X_test)#.reshape(-1)\n",
    "y_pred = y_pred[:, 0, 0]\n",
    "\n",
    "# Compute evaluation metrics\n",
    "mse = mean_squared_error(y_test, y_pred)\n",
    "r2 = r2_score(y_test, y_pred)\n",
    "print(mse, r2)"
   ]
  },
  {
   "cell_type": "code",
   "execution_count": null,
   "id": "ac1c94bd-1eaa-4119-8cb4-acc48a737c6f",
   "metadata": {},
   "outputs": [],
   "source": []
  },
  {
   "cell_type": "code",
   "execution_count": 22,
   "id": "1e4051c0-9476-47d7-86cf-e886dc462381",
   "metadata": {},
   "outputs": [
    {
     "data": {
      "text/plain": [
       "((67,),\n",
       " (67,),\n",
       " array([0.46255586, 0.46333516, 0.46280062, 0.4637284 , 0.46312624,\n",
       "        0.46431604, 0.46569464, 0.46500218, 0.46450508, 0.46534938,\n",
       "        0.46472526, 0.46644104, 0.46677372, 0.46734405, 0.46628883,\n",
       "        0.46640843, 0.46692583, 0.4665929 , 0.46653628, 0.46640965,\n",
       "        0.4664625 , 0.4669299 , 0.46695772, 0.46480823, 0.4638713 ,\n",
       "        0.46195573, 0.46461007, 0.46676415, 0.4680898 , 0.46428704,\n",
       "        0.46440464, 0.4659838 , 0.4718462 , 0.4770039 , 0.475451  ,\n",
       "        0.4702106 , 0.4627058 , 0.46518105, 0.46736777, 0.46950132,\n",
       "        0.460181  , 0.4593225 , 0.45815274, 0.45498592, 0.4561954 ,\n",
       "        0.45962846, 0.46591672, 0.46898103, 0.46905452, 0.4737277 ,\n",
       "        0.464259  , 0.46368456, 0.4637805 , 0.4618135 , 0.46054897,\n",
       "        0.46018806, 0.46074444, 0.4602595 , 0.45422447, 0.45419854,\n",
       "        0.4449435 , 0.44337183, 0.44144428, 0.44171923, 0.44169307,\n",
       "        0.44328547, 0.44583553], dtype=float32))"
      ]
     },
     "execution_count": 22,
     "metadata": {},
     "output_type": "execute_result"
    }
   ],
   "source": [
    "#y_pred = y_pred[:, 0]\n",
    "y_pred[:,0].shape, y_test.shape, y_pred[:,0]"
   ]
  },
  {
   "cell_type": "code",
   "execution_count": 23,
   "id": "31359df8-8f97-49c9-bee8-fcc50f659c6d",
   "metadata": {},
   "outputs": [
    {
     "data": {
      "image/png": "[encoded data removed]",
      "text/plain": [
       "<Figure size 1000x600 with 1 Axes>"
      ]
     },
     "metadata": {},
     "output_type": "display_data"
    },
    {
     "data": {
      "image/png": "[encoded data removed]",
      "text/plain": [
       "<Figure size 1000x600 with 1 Axes>"
      ]
     },
     "metadata": {},
     "output_type": "display_data"
    }
   ],
   "source": [
    "# Plot actual vs predicted\n",
    "plt.figure(figsize=(10, 6))\n",
    "plt.scatter(y_test, y_pred[:,0], color='blue')\n",
    "plt.plot([min(y_test), max(y_test)], [min(y_test), max(y_test)], color='red', linestyle='--')\n",
    "plt.xlabel('Actual')\n",
    "plt.ylabel('Predicted')\n",
    "plt.title('Actual vs Predicted')\n",
    "plt.grid(True)\n",
    "plt.show()\n",
    "\n",
    "# Plot residuals\n",
    "residuals = y_test - y_pred[:,0]\n",
    "plt.figure(figsize=(10, 6))\n",
    "plt.scatter(y_test, residuals, color='blue')\n",
    "plt.axhline(y=0, color='red', linestyle='--')\n",
    "plt.xlabel('Actual')\n",
    "plt.ylabel('Residuals')\n",
    "plt.title('Residuals Plot')\n",
    "plt.grid(True)\n",
    "plt.show()"
   ]
  },
  {
   "cell_type": "code",
   "execution_count": 24,
   "id": "214727c1-06c7-4320-8a83-b76af71588bc",
   "metadata": {},
   "outputs": [
    {
     "name": "stderr",
     "output_type": "stream",
     "text": [
      "C:\\Users\\janak\\anaconda3\\envs\\python38\\lib\\site-packages\\pyproj\\crs\\crs.py:141: FutureWarning: '+init=<authority>:<code>' syntax is deprecated. '<authority>:<code>' is the preferred initialization method. When making the change, be mindful of axis order changes: https://pyproj4.github.io/pyproj/stable/gotchas.html#axis-order-changes-in-proj-6\n",
      "  in_crs_string = _prepare_from_proj_string(in_crs_string)\n",
      "C:\\Users\\janak\\AppData\\Local\\Temp\\ipykernel_17280\\877578966.py:12: UserWarning: Column names longer than 10 characters will be truncated when saved to ESRI Shapefile.\n",
      "  gdf.to_file('test_predicted_values.shp')\n"
     ]
    }
   ],
   "source": [
    "# Save test data and predicted values to CSV\n",
    "test_df = pd.DataFrame({'Actual_Index': y_test, 'Pred_Index': y_pred[:,0],\n",
    "                        'Latitude': test_data['Lat'][-len(y_test):].values,\n",
    "                        'Longitude': test_data['Lon'][-len(y_test):].values,\n",
    "                        'Date': test_data['date'][-len(y_test):].dt.strftime('%Y-%m-%d')})  # Convert datetime to string\n",
    "test_df.to_csv('test_pred_values.csv', index=False)\n",
    "\n",
    "# Convert CSV to shapefile\n",
    "geometry = [Point(xy) for xy in zip(test_df['Longitude'], test_df['Latitude'])]\n",
    "gdf = gpd.GeoDataFrame(test_df, geometry=geometry)\n",
    "gdf.crs = {'init': 'epsg:4326'}  # Assuming WGS84 coordinate reference system\n",
    "gdf.to_file('test_predicted_values.shp')"
   ]
  },
  {
   "cell_type": "code",
   "execution_count": 25,
   "id": "2feaf786-bd3f-4405-ba0b-8213eeb77c6b",
   "metadata": {},
   "outputs": [],
   "source": [
    "# Generate random data for prediction\n",
    "random_data = pd.DataFrame({\n",
    "    'date': pd.date_range(start='2020-11-01', end='2020-11-25'),\n",
    "#    'latitude': np.random.uniform(low=data['Lat'].min(), high=(data['Lat'].max()), size=(61,)),\n",
    "#    'longitude': np.random.uniform(low=(data['Lon'].min()), high=(data['Lon'].max()), size=(61,))\n",
    "    'latitude': np.random.uniform(low=50, high=52, size=(25,)),\n",
    "    'longitude': np.random.uniform(low=7, high=8, size=(25,))\n",
    "})\n",
    "random_data.to_csv(r'./outputs/random_data.csv', index=False)"
   ]
  },
  {
   "cell_type": "code",
   "execution_count": 26,
   "id": "b82b7e60-d466-4c27-8545-225515f09062",
   "metadata": {},
   "outputs": [],
   "source": [
    "n_features = 2\n",
    "random_data = pd.read_csv(r'./outputs/random_data.csv')\n",
    "# Normalize the random data\n",
    "random_data['latitude'] = (random_data['latitude'] - random_data['latitude'].min()) / (random_data['latitude'].max() - random_data['latitude'].min())\n",
    "random_data['longitude'] = (random_data['longitude'] - random_data['longitude'].min()) / (random_data['longitude'].max() - random_data['longitude'].min())\n",
    "random_data['activity_index'] = np.nan  # Placeholder for activity index\n",
    "random_data.to_csv(r'./outputs/random_data_normalized.csv', index=False)\n",
    "\n",
    "# Prepare random data for prediction\n",
    "X_random, _ = prepare_data(random_data, include_target=False)\n",
    "X_random = X_random.reshape(-1, seq_length, 1, n_features, 1)\n",
    "\n"
   ]
  },
  {
   "cell_type": "code",
   "execution_count": 27,
   "id": "1f4de420-e793-4cc2-af64-3d9d44622021",
   "metadata": {},
   "outputs": [
    {
     "ename": "ValueError",
     "evalue": "cannot reshape array of size 378 into shape (25,1)",
     "output_type": "error",
     "traceback": [
      "\u001b[1;31m---------------------------------------------------------------------------\u001b[0m",
      "\u001b[1;31mValueError\u001b[0m                                Traceback (most recent call last)",
      "Cell \u001b[1;32mIn[27], line 1\u001b[0m\n\u001b[1;32m----> 1\u001b[0m X_df \u001b[38;5;241m=\u001b[39m pd\u001b[38;5;241m.\u001b[39mDataFrame(\u001b[43mX_random\u001b[49m\u001b[38;5;241;43m.\u001b[39;49m\u001b[43mreshape\u001b[49m\u001b[43m(\u001b[49m\u001b[38;5;241;43m25\u001b[39;49m\u001b[43m,\u001b[49m\u001b[38;5;241;43m1\u001b[39;49m\u001b[43m)\u001b[49m)\n\u001b[0;32m      2\u001b[0m X_df\u001b[38;5;241m.\u001b[39mto_csv(\u001b[38;5;124mr\u001b[39m\u001b[38;5;124m'\u001b[39m\u001b[38;5;124m./outputs/X_random.csv\u001b[39m\u001b[38;5;124m'\u001b[39m, index\u001b[38;5;241m=\u001b[39m\u001b[38;5;28;01mFalse\u001b[39;00m)\n",
      "\u001b[1;31mValueError\u001b[0m: cannot reshape array of size 378 into shape (25,1)"
     ]
    }
   ],
   "source": [
    "X_df = pd.DataFrame(X_random.reshape(25,1))\n",
    "X_df.to_csv(r'./outputs/X_random.csv', index=False)"
   ]
  },
  {
   "cell_type": "code",
   "execution_count": 28,
   "id": "9fa2f596-5540-4dc7-97fd-eb6346866bbc",
   "metadata": {},
   "outputs": [
    {
     "name": "stdout",
     "output_type": "stream",
     "text": [
      "1/1 [==============================] - 1s 712ms/step\n"
     ]
    }
   ],
   "source": [
    "# Make predictions on random data\n",
    "y_random_pred = model.predict(X_random).reshape(-1)"
   ]
  },
  {
   "cell_type": "code",
   "execution_count": 29,
   "id": "717e9f9d-4f50-4864-a2eb-9e247257d3c1",
   "metadata": {},
   "outputs": [
    {
     "data": {
      "text/plain": [
       "array([nan, nan, nan, nan, nan, nan, nan, nan, nan, nan, nan, nan, nan,\n",
       "       nan, nan, nan, nan, nan, nan, nan, nan, nan, nan, nan, nan, nan,\n",
       "       nan, nan, nan, nan, nan, nan, nan, nan, nan, nan, nan, nan, nan,\n",
       "       nan, nan, nan, nan, nan, nan, nan, nan, nan, nan, nan, nan, nan,\n",
       "       nan, nan], dtype=float32)"
      ]
     },
     "execution_count": 29,
     "metadata": {},
     "output_type": "execute_result"
    }
   ],
   "source": [
    "y_random_pred = y_random_pred#[:,0]\n",
    "y_random_pred"
   ]
  },
  {
   "cell_type": "code",
   "execution_count": null,
   "id": "b2d33aa5-6eda-4cf3-8e87-6b83ebced93c",
   "metadata": {},
   "outputs": [],
   "source": [
    "\n",
    "\n",
    "# Combine random data with predicted values\n",
    "random_pred_df = pd.DataFrame({\n",
    "    'Pred_Index': y_random_pred,\n",
    "    'Latitude': random_data['latitude'].values[-len(y_random_pred):],\n",
    "    'Longitude': random_data['longitude'].values[-len(y_random_pred):],\n",
    "    'Date': random_data['date'].dt.strftime('%Y-%m-%d')[-len(y_random_pred):]\n",
    "})\n",
    "\n",
    "# Save random data and predicted values to CSV\n",
    "random_pred_df.to_csv('random_pred_values.csv', index=False)\n",
    "\n",
    "# Convert random data CSV to shapefile\n",
    "geometry_random = [Point(xy) for xy in zip(random_pred_df['Longitude'], random_pred_df['Latitude'])]\n",
    "gdf_random = gpd.GeoDataFrame(random_pred_df, geometry=geometry_random)\n",
    "gdf_random.crs = {'init': 'epsg:4326'}  # Assuming WGS84 coordinate reference system\n",
    "gdf_random.to_file('random_predicted_values.shp')\n"
   ]
  },
  {
   "cell_type": "code",
   "execution_count": null,
   "id": "10478570-3ecd-4f5d-b607-d3ae14a5e6dc",
   "metadata": {},
   "outputs": [],
   "source": []
  },
  {
   "cell_type": "code",
   "execution_count": null,
   "id": "f1cc8425-e4ff-4469-8e4d-5ba92372ef49",
   "metadata": {},
   "outputs": [],
   "source": []
  },
  {
   "cell_type": "code",
   "execution_count": null,
   "id": "6ee7629d-c5bb-4ad7-90bf-688eae532bff",
   "metadata": {},
   "outputs": [],
   "source": []
  },
  {
   "cell_type": "code",
   "execution_count": null,
   "id": "d39979d5-b2df-4d70-a17d-d59ddcdfdcf8",
   "metadata": {},
   "outputs": [],
   "source": []
  },
  {
   "cell_type": "code",
   "execution_count": null,
   "id": "109ff45b-38b0-41e7-b558-c80f03832b10",
   "metadata": {},
   "outputs": [],
   "source": [
    "import numpy as np\n",
    "import pandas as pd\n",
    "import matplotlib.pyplot as plt\n",
    "from sklearn.model_selection import train_test_split\n",
    "from sklearn.metrics import mean_squared_error, r2_score\n",
    "from tensorflow.keras.models import Sequential\n",
    "from tensorflow.keras.layers import ConvLSTM2D, Dense\n",
    "from tensorflow.keras.optimizers import Adam\n",
    "from tensorflow.keras.layers import BatchNormalization, MaxPooling2D\n",
    "from shapely.geometry import Point\n",
    "import geopandas as gpd\n",
    "import os\n",
    "import random\n",
    "\n",
    "# Load the data from CSV file\n",
    "data = pd.read_csv(r\"./Daily_HAI_Mean.csv\")\n",
    "\n",
    "# Preprocess the data\n",
    "data['date'] = pd.to_datetime(data['ds'])\n",
    "data['latitude'] = (data['Lat'] - data['Lat'].min()) / (data['Lat'].max() - data['Lat'].min())\n",
    "data['longitude'] = (data['Lon'] - data['Lon'].min()) / (data['Lon'].max() - data['Lon'].min())\n",
    "data['activity_index'] = (data['y'] - data['y'].min()) / (data['y'].max() - data['y'].min())\n",
    "\n",
    "# Split data into train and test sets (considering dates)\n",
    "train_data, test_data = train_test_split(data, test_size=0.2, random_state=42)\n",
    "\n",
    "# Define parameters\n",
    "seq_length = 7  # Length of sequence for each sample\n",
    "n_features = 3  # Number of features (latitude, longitude, activity_index)\n",
    "n_filters = 32  # Number of filters in ConvLSTM layers\n",
    "kernel_size = (1, 1)  # Kernel size for ConvLSTM layers\n",
    "\n",
    "# Prepare the data for ConvLSTM\n",
    "def prepare_data(data):\n",
    "    X = []\n",
    "    y = []\n",
    "    data = data.sort_values(by='date')  # Sort data by date\n",
    "    for i in range(len(data) - seq_length):\n",
    "        X.append(data[['latitude', 'longitude', 'activity_index']].iloc[i:i+seq_length].values)\n",
    "        y.append(data['activity_index'].iloc[i+seq_length])\n",
    "    X = np.array(X)\n",
    "    y = np.array(y)\n",
    "    return X, y\n",
    "\n",
    "X_train, y_train = prepare_data(train_data)\n",
    "X_test, y_test = prepare_data(test_data)\n",
    "\n",
    "X_train, y_train = prepare_data(train_data)\n",
    "X_test, y_test = prepare_data(test_data)\n",
    "\n",
    "# Reshape the data for ConvLSTM\n",
    "print(\"Before reshaping:\")\n",
    "print(\"X_train shape:\", X_train.shape)\n",
    "print(\"X_test shape:\", X_test.shape)\n",
    "\n",
    "X_train = X_train.reshape(-1, seq_length, 1, n_features, 1)\n",
    "X_test = X_test.reshape(-1, seq_length, 1,  n_features, 1)\n",
    "\n",
    "print(\"After reshaping:\")\n",
    "print(\"X_train shape:\", X_train.shape)\n",
    "print(\"X_test shape:\", X_test.shape)\n",
    "\n",
    "# Build the ConvLSTM model\n",
    "model = Sequential([\n",
    "    ConvLSTM2D(filters=n_filters, kernel_size=kernel_size, activation='relu', input_shape=(seq_length, 1, n_features, 1), return_sequences=True),\n",
    "    BatchNormalization(),\n",
    "    #MaxPooling2D(pool_size=(2, 2)),\n",
    "    \n",
    "    ConvLSTM2D(filters=64, kernel_size=kernel_size, activation='relu', return_sequences=True),\n",
    "    BatchNormalization(),\n",
    "    #MaxPooling2D(pool_size=(2, 2)),\n",
    "    \n",
    "    ConvLSTM2D(filters=128, kernel_size=kernel_size, activation='relu', return_sequences=True),\n",
    "    BatchNormalization(),\n",
    "    #MaxPooling2D(pool_size=(2, 2)),\n",
    "    \n",
    "    ConvLSTM2D(filters=256, kernel_size=kernel_size, activation='relu', return_sequences=True),\n",
    "    BatchNormalization(),\n",
    "    #MaxPooling2D(pool_size=(2, 2)),\n",
    "    \n",
    "    ConvLSTM2D(filters=512, kernel_size=kernel_size, activation='relu'),\n",
    "    BatchNormalization(),\n",
    "    #MaxPooling2D(pool_size=(2, 2)),\n",
    "    \n",
    "    Dense(1)  # Output layer\n",
    "])\n",
    "\n",
    "\n",
    "# Compile the model\n",
    "model.compile(optimizer=Adam(), loss='mse')\n",
    "\n",
    "# Train the model\n",
    "history = model.fit(X_train, y_train, epochs=50, batch_size=32, validation_data=(X_test, y_test))\n",
    "\n",
    "# Evaluate the model\n",
    "loss = model.evaluate(X_test, y_test)\n",
    "print(\"Test Loss:\", loss)\n",
    "\n",
    "# Make predictions\n",
    "y_pred = model.predict(X_test).reshape(-1)\n",
    "\n",
    "# Compute evaluation metrics\n",
    "mse = mean_squared_error(y_test, y_pred)\n",
    "r2 = r2_score(y_test, y_pred)\n",
    "\n",
    "# Plot loss vs validation loss\n",
    "plt.plot(history.history['loss'], label='Loss')\n",
    "plt.plot(history.history['val_loss'], label='Validation Loss')\n",
    "plt.xlabel('Epoch')\n",
    "plt.ylabel('Loss')\n",
    "plt.title('Training Loss vs Validation Loss')\n",
    "plt.legend()\n",
    "plt.show()\n",
    "\n",
    "# Plot actual vs predicted\n",
    "plt.figure(figsize=(10, 6))\n",
    "plt.scatter(y_test, y_pred, color='blue')\n",
    "plt.plot([min(y_test), max(y_test)], [min(y_test), max(y_test)], color='red', linestyle='--')\n",
    "plt.xlabel('Actual')\n",
    "plt.ylabel('Predicted')\n",
    "plt.title('Actual vs Predicted')\n",
    "plt.grid(True)\n",
    "plt.show()\n",
    "\n",
    "# Plot residuals\n",
    "residuals = y_test - y_pred\n",
    "plt.figure(figsize=(10, 6))\n",
    "plt.scatter(y_test, residuals, color='blue')\n",
    "plt.axhline(y=0, color='red', linestyle='--')\n",
    "plt.xlabel('Actual')\n",
    "plt.ylabel('Residuals')\n",
    "plt.title('Residuals Plot')\n",
    "plt.grid(True)\n",
    "plt.show()\n",
    "\n",
    "# Print evaluation metrics\n",
    "print(\"Mean Squared Error:\", mse)\n",
    "print(\"R-squared:\", r2)\n",
    "\n",
    "# Save test data and predicted values to CSV\n",
    "test_df = pd.DataFrame({'Actual_Activity_Index': y_test, 'Predicted_Activity_Index': y_pred,\n",
    "                        'Latitude': test_data['Lat'][-len(y_test):].values,\n",
    "                        'Longitude': test_data['Lon'][-len(y_test):].values,\n",
    "                        'Date': test_data['date'][-len(y_test):].values})\n",
    "test_df.to_csv('test_predicted_values.csv', index=False)\n",
    "\n",
    "# Convert CSV to shapefile\n",
    "geometry = [Point(xy) for xy in zip(test_df['Longitude'], test_df['Latitude'])]\n",
    "gdf = gpd.GeoDataFrame(test_df, geometry=geometry)\n",
    "gdf.crs = {'init': 'epsg:4326'}  # Assuming WGS84 coordinate reference system\n",
    "gdf.to_file('test_predicted_values.shp')\n",
    "\n",
    "# Generate random data for prediction\n",
    "random_data = pd.DataFrame({\n",
    "    'Date': pd.date_range(start='2023-01-01', end='2023-01-10'),\n",
    "    'Lat': np.random.uniform(low=data['Lat'].min(), high=data['Lat'].max(), size=(10,)),\n",
    "    'Lon': np.random.uniform(low=data['Lon'].min(), high=data['Lon'].max(), size=(10,))\n",
    "})\n",
    "\n",
    "# Prepare random data for prediction\n",
    "X_random, _ = prepare_data(random_data)\n",
    "X_random = X_random.reshape(-1, seq_length, 1, n_features, 1)\n",
    "\n",
    "# Make predictions on random data\n",
    "y_random_pred = model.predict(X_random).reshape(-1)\n",
    "\n",
    "# Combine random data with predicted values\n",
    "random_pred_df = pd.DataFrame({'Predicted_Activity_Index': y_random_pred,\n",
    "                               'Latitude': random_data['Lat'].values,\n",
    "                               'Longitude': random_data['Lon'].values,\n",
    "                               'Date': random_data['Date'].values})\n",
    "\n",
    "# Save random data and predicted values to CSV\n",
    "random_pred_df.to_csv('random_predicted_values.csv', index=False)\n",
    "\n",
    "# Convert random data CSV to shapefile\n",
    "geometry_random = [Point(xy) for xy in zip(random_pred_df['Longitude'], random_pred_df['Latitude'])]\n",
    "gdf_random = gpd.GeoDataFrame(random_pred_df, geometry=geometry_random)\n",
    "gdf_random.crs = {'init': 'epsg:4326'}  # Assuming WGS84 coordinate reference system\n",
    "gdf_random.to_file('random_predicted_values.shp')\n"
   ]
  },
  {
   "cell_type": "code",
   "execution_count": null,
   "id": "5195c31b-9a5d-4f08-aeb4-086e564e402b",
   "metadata": {},
   "outputs": [],
   "source": []
  },
  {
   "cell_type": "code",
   "execution_count": null,
   "id": "4860676d-6147-4b6f-9c5e-32e5da8cdbc4",
   "metadata": {},
   "outputs": [],
   "source": []
  },
  {
   "cell_type": "code",
   "execution_count": null,
   "id": "b0ff53d2-51b5-4680-b7c9-d483f76d6fa8",
   "metadata": {},
   "outputs": [],
   "source": []
  },
  {
   "cell_type": "code",
   "execution_count": null,
   "id": "602080ed-bcf5-45ae-96e9-6cb5a8939d6a",
   "metadata": {},
   "outputs": [],
   "source": []
  },
  {
   "cell_type": "code",
   "execution_count": null,
   "id": "4c5897bd-ce8d-4668-99d1-76de94f3f1c5",
   "metadata": {},
   "outputs": [],
   "source": []
  },
  {
   "cell_type": "code",
   "execution_count": null,
   "id": "b7116f1a-0231-480b-9bd2-402bd79d5413",
   "metadata": {},
   "outputs": [],
   "source": []
  },
  {
   "cell_type": "code",
   "execution_count": null,
   "id": "d1bd64cf-099b-4aa2-b696-f3de48b7d81a",
   "metadata": {},
   "outputs": [],
   "source": []
  },
  {
   "cell_type": "code",
   "execution_count": null,
   "id": "47486516-5e84-4a0b-95a8-683945fbed4e",
   "metadata": {},
   "outputs": [],
   "source": []
  },
  {
   "cell_type": "code",
   "execution_count": null,
   "id": "3f3577ce-94a4-4ffe-98fa-d40e805f5a50",
   "metadata": {},
   "outputs": [],
   "source": []
  },
  {
   "cell_type": "code",
   "execution_count": null,
   "id": "287fda99-a023-4a93-b523-504fe31ad3bf",
   "metadata": {},
   "outputs": [],
   "source": []
  },
  {
   "cell_type": "code",
   "execution_count": null,
   "id": "b05c6ca6-b814-48dc-a42e-a2de8a2355cb",
   "metadata": {},
   "outputs": [],
   "source": []
  }
 ],
 "metadata": {
  "kernelspec": {
   "display_name": "Python 3 (ipykernel)",
   "language": "python",
   "name": "python3"
  },
  "language_info": {
   "codemirror_mode": {
    "name": "ipython",
    "version": 3
   },
   "file_extension": ".py",
   "mimetype": "text/x-python",
   "name": "python",
   "nbconvert_exporter": "python",
   "pygments_lexer": "ipython3",
   "version": "3.8.19"
  }
 },
 "nbformat": 4,
 "nbformat_minor": 5
}
