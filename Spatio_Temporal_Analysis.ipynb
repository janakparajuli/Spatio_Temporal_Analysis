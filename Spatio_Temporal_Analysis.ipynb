{
 "cells": [
  {
   "cell_type": "code",
   "execution_count": null,
   "id": "7f18ec02-1331-4570-ab5e-d7d49506ff11",
   "metadata": {},
   "outputs": [],
   "source": []
  },
  {
   "cell_type": "code",
   "execution_count": 1,
   "id": "250b354b-ef6d-4a65-b9d9-48f8b6966af1",
   "metadata": {},
   "outputs": [],
   "source": [
    "import numpy as np\n",
    "import pandas as pd\n",
    "import matplotlib.pyplot as plt\n",
    "from sklearn.model_selection import train_test_split\n",
    "from sklearn.metrics import mean_squared_error, r2_score\n",
    "from tensorflow.keras.models import Sequential\n",
    "from tensorflow.keras.layers import ConvLSTM2D, Dense, BatchNormalization, MaxPooling3D, Flatten\n",
    "from tensorflow.keras.optimizers import Adam\n",
    "from shapely.geometry import Point\n",
    "import geopandas as gpd\n",
    "import os\n",
    "import random"
   ]
  },
  {
   "cell_type": "code",
   "execution_count": 2,
   "id": "f830b785-0a56-4646-9b69-5c33dac6d413",
   "metadata": {},
   "outputs": [],
   "source": [
    "# Load the data from CSV file\n",
    "data = pd.read_csv(r\"./Daily_HAI_Mean.csv\")\n",
    "\n",
    "# Preprocess the data\n",
    "data['date'] = pd.to_datetime(data['ds'])\n",
    "data['latitude'] = (data['Lat'] - data['Lat'].min()) / (data['Lat'].max() - data['Lat'].min())\n",
    "data['longitude'] = (data['Lon'] - data['Lon'].min()) / (data['Lon'].max() - data['Lon'].min())\n",
    "data['activity_index'] = (data['y'] - data['y'].min()) / (data['y'].max() - data['y'].min())"
   ]
  },
  {
   "cell_type": "code",
   "execution_count": 3,
   "id": "db78f33d-7a91-4ec3-ab54-35076f42716a",
   "metadata": {},
   "outputs": [
    {
     "data": {
      "text/html": [
       "<div>\n",
       "<style scoped>\n",
       "    .dataframe tbody tr th:only-of-type {\n",
       "        vertical-align: middle;\n",
       "    }\n",
       "\n",
       "    .dataframe tbody tr th {\n",
       "        vertical-align: top;\n",
       "    }\n",
       "\n",
       "    .dataframe thead th {\n",
       "        text-align: right;\n",
       "    }\n",
       "</style>\n",
       "<table border=\"1\" class=\"dataframe\">\n",
       "  <thead>\n",
       "    <tr style=\"text-align: right;\">\n",
       "      <th></th>\n",
       "      <th>ds</th>\n",
       "      <th>Lat</th>\n",
       "      <th>Lon</th>\n",
       "      <th>y</th>\n",
       "      <th>unique_id</th>\n",
       "      <th>date</th>\n",
       "      <th>latitude</th>\n",
       "      <th>longitude</th>\n",
       "      <th>activity_index</th>\n",
       "    </tr>\n",
       "  </thead>\n",
       "  <tbody>\n",
       "    <tr>\n",
       "      <th>0</th>\n",
       "      <td>2020-01-01</td>\n",
       "      <td>51.728440</td>\n",
       "      <td>7.333657</td>\n",
       "      <td>0.117984</td>\n",
       "      <td>1</td>\n",
       "      <td>2020-01-01</td>\n",
       "      <td>0.399589</td>\n",
       "      <td>0.344182</td>\n",
       "      <td>0.605971</td>\n",
       "    </tr>\n",
       "    <tr>\n",
       "      <th>1</th>\n",
       "      <td>2020-01-02</td>\n",
       "      <td>51.745312</td>\n",
       "      <td>7.324808</td>\n",
       "      <td>0.128913</td>\n",
       "      <td>1</td>\n",
       "      <td>2020-01-02</td>\n",
       "      <td>0.612946</td>\n",
       "      <td>0.244590</td>\n",
       "      <td>0.924800</td>\n",
       "    </tr>\n",
       "    <tr>\n",
       "      <th>2</th>\n",
       "      <td>2020-01-03</td>\n",
       "      <td>51.736941</td>\n",
       "      <td>7.322903</td>\n",
       "      <td>0.123177</td>\n",
       "      <td>1</td>\n",
       "      <td>2020-01-03</td>\n",
       "      <td>0.507084</td>\n",
       "      <td>0.223151</td>\n",
       "      <td>0.757461</td>\n",
       "    </tr>\n",
       "    <tr>\n",
       "      <th>3</th>\n",
       "      <td>2020-01-04</td>\n",
       "      <td>51.736578</td>\n",
       "      <td>7.307931</td>\n",
       "      <td>0.125445</td>\n",
       "      <td>1</td>\n",
       "      <td>2020-01-04</td>\n",
       "      <td>0.502494</td>\n",
       "      <td>0.054646</td>\n",
       "      <td>0.823631</td>\n",
       "    </tr>\n",
       "    <tr>\n",
       "      <th>4</th>\n",
       "      <td>2020-01-05</td>\n",
       "      <td>51.744239</td>\n",
       "      <td>7.330141</td>\n",
       "      <td>0.113853</td>\n",
       "      <td>1</td>\n",
       "      <td>2020-01-05</td>\n",
       "      <td>0.599377</td>\n",
       "      <td>0.304618</td>\n",
       "      <td>0.485474</td>\n",
       "    </tr>\n",
       "  </tbody>\n",
       "</table>\n",
       "</div>"
      ],
      "text/plain": [
       "           ds        Lat       Lon         y  unique_id       date  latitude  \\\n",
       "0  2020-01-01  51.728440  7.333657  0.117984          1 2020-01-01  0.399589   \n",
       "1  2020-01-02  51.745312  7.324808  0.128913          1 2020-01-02  0.612946   \n",
       "2  2020-01-03  51.736941  7.322903  0.123177          1 2020-01-03  0.507084   \n",
       "3  2020-01-04  51.736578  7.307931  0.125445          1 2020-01-04  0.502494   \n",
       "4  2020-01-05  51.744239  7.330141  0.113853          1 2020-01-05  0.599377   \n",
       "\n",
       "   longitude  activity_index  \n",
       "0   0.344182        0.605971  \n",
       "1   0.244590        0.924800  \n",
       "2   0.223151        0.757461  \n",
       "3   0.054646        0.823631  \n",
       "4   0.304618        0.485474  "
      ]
     },
     "execution_count": 3,
     "metadata": {},
     "output_type": "execute_result"
    }
   ],
   "source": [
    "data.head()"
   ]
  },
  {
   "cell_type": "code",
   "execution_count": 3,
   "id": "ad21e737-4b67-418e-9f1d-69c3277f09c9",
   "metadata": {},
   "outputs": [],
   "source": [
    "# Split data into train and test sets (considering dates)\n",
    "train_data, test_data = train_test_split(data, test_size=0.2, random_state=42)\n",
    "\n",
    "# Define parameters\n",
    "seq_length = 7  # Length of sequence for each sample\n",
    "n_features = 2  # Number of features (latitude, longitude, activity_index)\n",
    "n_filters = 4  # Number of filters in ConvLSTM layers\n",
    "kernel_size = (1, 1)  # Kernel size for ConvLSTM layers"
   ]
  },
  {
   "cell_type": "code",
   "execution_count": null,
   "id": "3b61c36a-21e4-4cce-8100-a9f775527a17",
   "metadata": {},
   "outputs": [],
   "source": []
  },
  {
   "cell_type": "code",
   "execution_count": 4,
   "id": "61f971ad-1b45-4229-83d0-482d813e9d95",
   "metadata": {},
   "outputs": [],
   "source": [
    "# Prepare the data for ConvLSTM\n",
    "def prepare_data(data, include_target=True):\n",
    "    X = []\n",
    "    y = []\n",
    "    data = data.sort_values(by='date')  # Sort data by date\n",
    "    for i in range(len(data) - seq_length):\n",
    "        X.append(data[['latitude', 'longitude']].iloc[i:i+seq_length].values)\n",
    "        if include_target:\n",
    "            y.append(data['activity_index'].iloc[i+seq_length])\n",
    "    X = np.array(X)\n",
    "    #print(X)\n",
    "    if include_target:\n",
    "        y = np.array(y)\n",
    "        return X, y\n",
    "    return X, None"
   ]
  },
  {
   "cell_type": "code",
   "execution_count": null,
   "id": "d05d850f-02fa-4c34-bbc8-2d323f401299",
   "metadata": {},
   "outputs": [],
   "source": []
  },
  {
   "cell_type": "code",
   "execution_count": 5,
   "id": "21e50ace-63bc-4b82-b90f-417fa493b33c",
   "metadata": {},
   "outputs": [
    {
     "name": "stdout",
     "output_type": "stream",
     "text": [
      "Before reshaping:\n",
      "X_train shape: (285, 7, 2)\n",
      "X_test shape: (67, 7, 2)\n",
      "After reshaping:\n",
      "X_train shape: (285, 7, 1, 2, 1)\n",
      "X_test shape: (67, 7, 1, 2, 1)\n"
     ]
    }
   ],
   "source": [
    "X_train, y_train = prepare_data(train_data)\n",
    "X_test, y_test = prepare_data(test_data)\n",
    "\n",
    "# Reshape the data for ConvLSTM\n",
    "print(\"Before reshaping:\")\n",
    "print(\"X_train shape:\", X_train.shape)\n",
    "print(\"X_test shape:\", X_test.shape)\n",
    "#print(X_train)\n",
    "X_train = X_train.reshape(-1, seq_length, 1, n_features, 1)\n",
    "X_test = X_test.reshape(-1, seq_length, 1, n_features, 1)\n",
    "\n",
    "print(\"After reshaping:\")\n",
    "print(\"X_train shape:\", X_train.shape)\n",
    "print(\"X_test shape:\", X_test.shape)\n"
   ]
  },
  {
   "cell_type": "code",
   "execution_count": 6,
   "id": "35dd8263-ab36-4850-b18f-a8033f613fa8",
   "metadata": {},
   "outputs": [],
   "source": [
    "#X_train"
   ]
  },
  {
   "cell_type": "code",
   "execution_count": 23,
   "id": "507466c0-bdb3-44ef-b482-52965d3d6452",
   "metadata": {},
   "outputs": [],
   "source": [
    "# Build the ConvLSTM model\n",
    "model = Sequential([\n",
    "    ConvLSTM2D(filters=n_filters, kernel_size=kernel_size, activation='relu', input_shape=(seq_length, 1, n_features, 1), return_sequences=True),\n",
    "    BatchNormalization(),\n",
    "    #MaxPooling3D(pool_size=(1, 1, 1)),\n",
    "    \n",
    "    ConvLSTM2D(filters=2*n_filters, kernel_size=kernel_size, activation='relu', return_sequences=True),\n",
    "    BatchNormalization(),\n",
    "    #MaxPooling3D(pool_size=(1, 1, 1)),\n",
    "    \n",
    "    ConvLSTM2D(filters=4*n_filters, kernel_size=kernel_size, activation='relu', return_sequences=True),\n",
    "    BatchNormalization(),\n",
    "    #MaxPooling3D(pool_size=(1, 1, 1)),\n",
    "    \n",
    "    ConvLSTM2D(filters=8*n_filters, kernel_size=kernel_size, activation='relu', return_sequences=False),\n",
    "    BatchNormalization(),\n",
    "    #MaxPooling3D(pool_size=(1, 1, 1)),\n",
    "    \n",
    "    #ConvLSTM2D(filters=16*n_filters, kernel_size=kernel_size, activation='relu'),\n",
    "    #BatchNormalization(),\n",
    "    #MaxPooling3D(pool_size=(1, 1, 1)),\n",
    "\n",
    "    Flatten(),  # Flatten the output before the Dense layer\n",
    "    \n",
    "    Dense(1)  # Output layer\n",
    "])"
   ]
  },
  {
   "cell_type": "code",
   "execution_count": 24,
   "id": "1494c5f6-599c-4176-ab07-874696f2faf1",
   "metadata": {},
   "outputs": [
    {
     "name": "stdout",
     "output_type": "stream",
     "text": [
      "Model: \"sequential_2\"\n",
      "_________________________________________________________________\n",
      " Layer (type)                Output Shape              Param #   \n",
      "=================================================================\n",
      " conv_lstm2d_9 (ConvLSTM2D)  (None, 7, 1, 2, 4)        96        \n",
      "                                                                 \n",
      " batch_normalization_9 (Bat  (None, 7, 1, 2, 4)        16        \n",
      " chNormalization)                                                \n",
      "                                                                 \n",
      " conv_lstm2d_10 (ConvLSTM2D  (None, 7, 1, 2, 8)        416       \n",
      " )                                                               \n",
      "                                                                 \n",
      " batch_normalization_10 (Ba  (None, 7, 1, 2, 8)        32        \n",
      " tchNormalization)                                               \n",
      "                                                                 \n",
      " conv_lstm2d_11 (ConvLSTM2D  (None, 7, 1, 2, 16)       1600      \n",
      " )                                                               \n",
      "                                                                 \n",
      " batch_normalization_11 (Ba  (None, 7, 1, 2, 16)       64        \n",
      " tchNormalization)                                               \n",
      "                                                                 \n",
      " conv_lstm2d_12 (ConvLSTM2D  (None, 1, 2, 32)          6272      \n",
      " )                                                               \n",
      "                                                                 \n",
      " batch_normalization_12 (Ba  (None, 1, 2, 32)          128       \n",
      " tchNormalization)                                               \n",
      "                                                                 \n",
      " flatten (Flatten)           (None, 64)                0         \n",
      "                                                                 \n",
      " dense_2 (Dense)             (None, 1)                 65        \n",
      "                                                                 \n",
      "=================================================================\n",
      "Total params: 8689 (33.94 KB)\n",
      "Trainable params: 8569 (33.47 KB)\n",
      "Non-trainable params: 120 (480.00 Byte)\n",
      "_________________________________________________________________\n"
     ]
    }
   ],
   "source": [
    "model.summary()"
   ]
  },
  {
   "cell_type": "code",
   "execution_count": 25,
   "id": "65b92a84-1b5a-473d-9472-49e7a1fd849b",
   "metadata": {},
   "outputs": [
    {
     "name": "stdout",
     "output_type": "stream",
     "text": [
      "Epoch 1/25\n",
      "9/9 [==============================] - 8s 94ms/step - loss: 1.0947 - val_loss: 0.1575\n",
      "Epoch 2/25\n",
      "9/9 [==============================] - 0s 26ms/step - loss: 0.3975 - val_loss: 0.1076\n",
      "Epoch 3/25\n",
      "9/9 [==============================] - 0s 25ms/step - loss: 0.2143 - val_loss: 0.0741\n",
      "Epoch 4/25\n",
      "9/9 [==============================] - 0s 23ms/step - loss: 0.1191 - val_loss: 0.0537\n",
      "Epoch 5/25\n",
      "9/9 [==============================] - 0s 23ms/step - loss: 0.0969 - val_loss: 0.0410\n",
      "Epoch 6/25\n",
      "9/9 [==============================] - 0s 24ms/step - loss: 0.0713 - val_loss: 0.0336\n",
      "Epoch 7/25\n",
      "9/9 [==============================] - 0s 24ms/step - loss: 0.0556 - val_loss: 0.0307\n",
      "Epoch 8/25\n",
      "9/9 [==============================] - 0s 24ms/step - loss: 0.0464 - val_loss: 0.0297\n",
      "Epoch 9/25\n",
      "9/9 [==============================] - 0s 23ms/step - loss: 0.0431 - val_loss: 0.0304\n",
      "Epoch 10/25\n",
      "9/9 [==============================] - 0s 24ms/step - loss: 0.0379 - val_loss: 0.0329\n",
      "Epoch 11/25\n",
      "9/9 [==============================] - 0s 24ms/step - loss: 0.0413 - val_loss: 0.0356\n",
      "Epoch 12/25\n",
      "9/9 [==============================] - 0s 24ms/step - loss: 0.0319 - val_loss: 0.0379\n",
      "Epoch 13/25\n",
      "9/9 [==============================] - 0s 24ms/step - loss: 0.0344 - val_loss: 0.0414\n",
      "Epoch 14/25\n",
      "9/9 [==============================] - 0s 23ms/step - loss: 0.0382 - val_loss: 0.0449\n",
      "Epoch 15/25\n",
      "9/9 [==============================] - 0s 24ms/step - loss: 0.0270 - val_loss: 0.0504\n",
      "Epoch 16/25\n",
      "9/9 [==============================] - 0s 24ms/step - loss: 0.0293 - val_loss: 0.0550\n",
      "Epoch 17/25\n",
      "9/9 [==============================] - 0s 24ms/step - loss: 0.0288 - val_loss: 0.0597\n",
      "Epoch 18/25\n",
      "9/9 [==============================] - 0s 23ms/step - loss: 0.0272 - val_loss: 0.0632\n",
      "Epoch 19/25\n",
      "9/9 [==============================] - 0s 23ms/step - loss: 0.0258 - val_loss: 0.0686\n",
      "Epoch 20/25\n",
      "9/9 [==============================] - 0s 22ms/step - loss: 0.0247 - val_loss: 0.0740\n",
      "Epoch 21/25\n",
      "9/9 [==============================] - 0s 23ms/step - loss: 0.0230 - val_loss: 0.0726\n",
      "Epoch 22/25\n",
      "9/9 [==============================] - 0s 23ms/step - loss: 0.0240 - val_loss: 0.0765\n",
      "Epoch 23/25\n",
      "9/9 [==============================] - 0s 24ms/step - loss: 0.0263 - val_loss: 0.0811\n",
      "Epoch 24/25\n",
      "9/9 [==============================] - 0s 23ms/step - loss: 0.0196 - val_loss: 0.0828\n",
      "Epoch 25/25\n",
      "9/9 [==============================] - 0s 23ms/step - loss: 0.0206 - val_loss: 0.0874\n"
     ]
    },
    {
     "name": "stderr",
     "output_type": "stream",
     "text": [
      "C:\\Users\\janak\\anaconda3\\envs\\python38\\lib\\site-packages\\keras\\src\\engine\\training.py:3000: UserWarning: You are saving your model as an HDF5 file via `model.save()`. This file format is considered legacy. We recommend using instead the native Keras format, e.g. `model.save('my_model.keras')`.\n",
      "  saving_api.save_model(\n"
     ]
    }
   ],
   "source": [
    "# Compile the model\n",
    "batch_size = 32\n",
    "model.compile(optimizer=Adam(), loss='mse')\n",
    "\n",
    "# Train the model\n",
    "history = model.fit(X_train, y_train, epochs=25, batch_size=batch_size, validation_data=(X_test, y_test), verbose = 1)\n",
    "# Define the filename with hyperparameters\n",
    "filename = f\"ConvLSTM_model_filters_{n_filters}_kernel_{kernel_size}_seq_{seq_length}_batch_size_{batch_size}.h5\"\n",
    "\n",
    "# Save the model\n",
    "model.save(r\"./outputs/models/\"+filename)\n"
   ]
  },
  {
   "cell_type": "code",
   "execution_count": 26,
   "id": "1ddc784b-7cf5-4fcb-a9d5-89e02a285c3d",
   "metadata": {},
   "outputs": [
    {
     "data": {
      "image/png": "[encoded data removed]",
      "text/plain": [
       "<Figure size 640x480 with 1 Axes>"
      ]
     },
     "metadata": {},
     "output_type": "display_data"
    }
   ],
   "source": [
    "# Plot loss vs validation loss\n",
    "plt.plot(history.history['loss'], label='Loss')\n",
    "plt.plot(history.history['val_loss'], label='Validation Loss')\n",
    "plt.xlabel('Epoch')\n",
    "plt.ylabel('Loss')\n",
    "plt.title('Training Loss vs Validation Loss')\n",
    "plt.legend()\n",
    "plt.show()"
   ]
  },
  {
   "cell_type": "code",
   "execution_count": 28,
   "id": "043eea63-b308-4816-8cf1-11191daafb56",
   "metadata": {},
   "outputs": [
    {
     "name": "stdout",
     "output_type": "stream",
     "text": [
      "3/3 [==============================] - 0s 3ms/step - loss: 0.0874\n",
      "Test Loss: 0.08743724226951599\n",
      "3/3 [==============================] - 0s 3ms/step\n",
      "(67, 1)\n",
      "0.08743725039114825 -1.9473902993296486\n"
     ]
    }
   ],
   "source": [
    "# Evaluate the model\n",
    "loss = model.evaluate(X_test, y_test)\n",
    "print(\"Test Loss:\", loss)\n",
    "\n",
    "# Make predictions\n",
    "y_pred = model.predict(X_test)#.reshape(-1)\n",
    "print(y_pred.shape)\n",
    "#y_pred = y_pred[:, 0, 0]\n",
    "#print(y_pred.shape)\n",
    "\n",
    "# Compute evaluation metrics\n",
    "mse = mean_squared_error(y_test, y_pred)\n",
    "r2 = r2_score(y_test, y_pred)\n",
    "print(mse, r2)"
   ]
  },
  {
   "cell_type": "code",
   "execution_count": 29,
   "id": "ac1c94bd-1eaa-4119-8cb4-acc48a737c6f",
   "metadata": {},
   "outputs": [
    {
     "data": {
      "text/plain": [
       "array([[0.6825934 ],\n",
       "       [0.6841791 ],\n",
       "       [0.6785884 ],\n",
       "       [0.67794544],\n",
       "       [0.6769165 ],\n",
       "       [0.67543   ],\n",
       "       [0.67598116],\n",
       "       [0.67449766],\n",
       "       [0.67285025],\n",
       "       [0.6721083 ],\n",
       "       [0.67192596],\n",
       "       [0.67331177],\n",
       "       [0.6725121 ],\n",
       "       [0.6726623 ],\n",
       "       [0.67137843],\n",
       "       [0.66955644],\n",
       "       [0.6705988 ],\n",
       "       [0.67281187],\n",
       "       [0.67438835],\n",
       "       [0.67344713],\n",
       "       [0.6737263 ],\n",
       "       [0.6752404 ],\n",
       "       [0.6771945 ],\n",
       "       [0.6792099 ],\n",
       "       [0.67978436],\n",
       "       [0.6792868 ],\n",
       "       [0.676992  ],\n",
       "       [0.6757011 ],\n",
       "       [0.67522424],\n",
       "       [0.67714256],\n",
       "       [0.6796251 ],\n",
       "       [0.678613  ],\n",
       "       [0.6775566 ],\n",
       "       [0.6755203 ],\n",
       "       [0.6730228 ],\n",
       "       [0.6748294 ],\n",
       "       [0.67709094],\n",
       "       [0.6750781 ],\n",
       "       [0.6745334 ],\n",
       "       [0.67381006],\n",
       "       [0.677645  ],\n",
       "       [0.6817444 ],\n",
       "       [0.68695694],\n",
       "       [0.68669444],\n",
       "       [0.68312126],\n",
       "       [0.67972857],\n",
       "       [0.6761746 ],\n",
       "       [0.6763924 ],\n",
       "       [0.6762141 ],\n",
       "       [0.67350334],\n",
       "       [0.6790185 ],\n",
       "       [0.67917126],\n",
       "       [0.6815118 ],\n",
       "       [0.6829205 ],\n",
       "       [0.68298835],\n",
       "       [0.6839505 ],\n",
       "       [0.68410724],\n",
       "       [0.68271476],\n",
       "       [0.68371874],\n",
       "       [0.68629664],\n",
       "       [0.6881824 ],\n",
       "       [0.6908199 ],\n",
       "       [0.69257593],\n",
       "       [0.69195545],\n",
       "       [0.6916964 ],\n",
       "       [0.68925506],\n",
       "       [0.68872905]], dtype=float32)"
      ]
     },
     "execution_count": 29,
     "metadata": {},
     "output_type": "execute_result"
    }
   ],
   "source": [
    "y_pred"
   ]
  },
  {
   "cell_type": "code",
   "execution_count": 30,
   "id": "1e4051c0-9476-47d7-86cf-e886dc462381",
   "metadata": {},
   "outputs": [
    {
     "data": {
      "text/plain": [
       "(array([0.77810245, 0.7919413 , 0.60214493, 0.73840159, 0.84892502,\n",
       "        0.54719672, 0.6268909 , 0.72904251, 0.65937768, 0.75231192,\n",
       "        0.76197653, 0.75084518, 0.57038933, 0.49536178, 0.63756828,\n",
       "        0.58254877, 0.31786156, 0.38456348, 0.3783364 , 0.44423318,\n",
       "        0.46848893, 0.09826009, 0.44119091, 0.3957823 , 0.38952665,\n",
       "        0.47577773, 0.11940039, 0.27623277, 0.37302389, 0.4255243 ,\n",
       "        0.41032183, 0.41623751, 0.17457085, 0.35117619, 0.42303026,\n",
       "        0.47060499, 0.1817805 , 0.10483846, 0.        , 0.33221814,\n",
       "        0.32924496, 0.29982044, 0.34726227, 0.40471321, 0.33908897,\n",
       "        0.32236382, 0.36920888, 0.33463063, 0.37218145, 0.30203362,\n",
       "        0.52187073, 0.3270936 , 0.42256182, 0.38527735, 0.42609197,\n",
       "        0.47961131, 0.41521619, 0.47888308, 0.35171019, 0.46753726,\n",
       "        0.50507474, 0.40009076, 0.39076869, 0.38316694, 0.47321681,\n",
       "        0.49151132, 0.33537774]),\n",
       " array([[0.6825934 ],\n",
       "        [0.6841791 ],\n",
       "        [0.6785884 ],\n",
       "        [0.67794544],\n",
       "        [0.6769165 ],\n",
       "        [0.67543   ],\n",
       "        [0.67598116],\n",
       "        [0.67449766],\n",
       "        [0.67285025],\n",
       "        [0.6721083 ],\n",
       "        [0.67192596],\n",
       "        [0.67331177],\n",
       "        [0.6725121 ],\n",
       "        [0.6726623 ],\n",
       "        [0.67137843],\n",
       "        [0.66955644],\n",
       "        [0.6705988 ],\n",
       "        [0.67281187],\n",
       "        [0.67438835],\n",
       "        [0.67344713],\n",
       "        [0.6737263 ],\n",
       "        [0.6752404 ],\n",
       "        [0.6771945 ],\n",
       "        [0.6792099 ],\n",
       "        [0.67978436],\n",
       "        [0.6792868 ],\n",
       "        [0.676992  ],\n",
       "        [0.6757011 ],\n",
       "        [0.67522424],\n",
       "        [0.67714256],\n",
       "        [0.6796251 ],\n",
       "        [0.678613  ],\n",
       "        [0.6775566 ],\n",
       "        [0.6755203 ],\n",
       "        [0.6730228 ],\n",
       "        [0.6748294 ],\n",
       "        [0.67709094],\n",
       "        [0.6750781 ],\n",
       "        [0.6745334 ],\n",
       "        [0.67381006],\n",
       "        [0.677645  ],\n",
       "        [0.6817444 ],\n",
       "        [0.68695694],\n",
       "        [0.68669444],\n",
       "        [0.68312126],\n",
       "        [0.67972857],\n",
       "        [0.6761746 ],\n",
       "        [0.6763924 ],\n",
       "        [0.6762141 ],\n",
       "        [0.67350334],\n",
       "        [0.6790185 ],\n",
       "        [0.67917126],\n",
       "        [0.6815118 ],\n",
       "        [0.6829205 ],\n",
       "        [0.68298835],\n",
       "        [0.6839505 ],\n",
       "        [0.68410724],\n",
       "        [0.68271476],\n",
       "        [0.68371874],\n",
       "        [0.68629664],\n",
       "        [0.6881824 ],\n",
       "        [0.6908199 ],\n",
       "        [0.69257593],\n",
       "        [0.69195545],\n",
       "        [0.6916964 ],\n",
       "        [0.68925506],\n",
       "        [0.68872905]], dtype=float32))"
      ]
     },
     "execution_count": 30,
     "metadata": {},
     "output_type": "execute_result"
    }
   ],
   "source": [
    "#y_pred = y_pred[:, 0]\n",
    "y_test, y_pred"
   ]
  },
  {
   "cell_type": "code",
   "execution_count": 31,
   "id": "31359df8-8f97-49c9-bee8-fcc50f659c6d",
   "metadata": {},
   "outputs": [
    {
     "data": {
      "image/png": "[encoded data removed]",
      "text/plain": [
       "<Figure size 1000x600 with 1 Axes>"
      ]
     },
     "metadata": {},
     "output_type": "display_data"
    },
    {
     "data": {
      "image/png": "[encoded data removed]",
      "text/plain": [
       "<Figure size 1000x600 with 1 Axes>"
      ]
     },
     "metadata": {},
     "output_type": "display_data"
    }
   ],
   "source": [
    "# Plot actual vs predicted\n",
    "plt.figure(figsize=(10, 6))\n",
    "plt.scatter(y_test, y_pred[:,0], color='blue')\n",
    "plt.plot([min(y_test), max(y_test)], [min(y_test), max(y_test)], color='red', linestyle='--')\n",
    "plt.xlabel('Actual')\n",
    "plt.ylabel('Predicted')\n",
    "plt.title('Actual vs Predicted')\n",
    "plt.grid(True)\n",
    "plt.show()\n",
    "\n",
    "# Plot residuals\n",
    "residuals = y_test - y_pred[:,0]\n",
    "plt.figure(figsize=(10, 6))\n",
    "plt.scatter(y_test, residuals, color='blue')\n",
    "plt.axhline(y=0, color='red', linestyle='--')\n",
    "plt.xlabel('Actual')\n",
    "plt.ylabel('Residuals')\n",
    "plt.title('Residuals Plot')\n",
    "plt.grid(True)\n",
    "plt.show()"
   ]
  },
  {
   "cell_type": "code",
   "execution_count": 17,
   "id": "214727c1-06c7-4320-8a83-b76af71588bc",
   "metadata": {},
   "outputs": [
    {
     "name": "stderr",
     "output_type": "stream",
     "text": [
      "C:\\Users\\janak\\anaconda3\\envs\\python38\\lib\\site-packages\\pyproj\\crs\\crs.py:141: FutureWarning: '+init=<authority>:<code>' syntax is deprecated. '<authority>:<code>' is the preferred initialization method. When making the change, be mindful of axis order changes: https://pyproj4.github.io/pyproj/stable/gotchas.html#axis-order-changes-in-proj-6\n",
      "  in_crs_string = _prepare_from_proj_string(in_crs_string)\n",
      "C:\\Users\\janak\\AppData\\Local\\Temp\\ipykernel_16672\\877578966.py:12: UserWarning: Column names longer than 10 characters will be truncated when saved to ESRI Shapefile.\n",
      "  gdf.to_file('test_predicted_values.shp')\n"
     ]
    }
   ],
   "source": [
    "# Save test data and predicted values to CSV\n",
    "test_df = pd.DataFrame({'Actual_Index': y_test, 'Pred_Index': y_pred[:,0],\n",
    "                        'Latitude': test_data['Lat'][-len(y_test):].values,\n",
    "                        'Longitude': test_data['Lon'][-len(y_test):].values,\n",
    "                        'Date': test_data['date'][-len(y_test):].dt.strftime('%Y-%m-%d')})  # Convert datetime to string\n",
    "test_df.to_csv('./outputs/csv/test_pred_values.csv', index=False)\n",
    "\n",
    "# Convert CSV to shapefile\n",
    "geometry = [Point(xy) for xy in zip(test_df['Longitude'], test_df['Latitude'])]\n",
    "gdf = gpd.GeoDataFrame(test_df, geometry=geometry)\n",
    "gdf.crs = {'init': 'epsg:4326'}  # Assuming WGS84 coordinate reference system\n",
    "gdf.to_file('./outputs/shp/test_predicted_values.shp')"
   ]
  },
  {
   "cell_type": "code",
   "execution_count": 28,
   "id": "2feaf786-bd3f-4405-ba0b-8213eeb77c6b",
   "metadata": {},
   "outputs": [],
   "source": [
    "# Generate random data for prediction\n",
    "random_data = pd.DataFrame({\n",
    "    'date': pd.date_range(start='2020-11-01', end='2020-11-25'),\n",
    "#    'latitude': np.random.uniform(low=data['Lat'].min(), high=(data['Lat'].max()), size=(61,)),\n",
    "#    'longitude': np.random.uniform(low=(data['Lon'].min()), high=(data['Lon'].max()), size=(61,))\n",
    "    'latitude': np.random.uniform(low=50, high=52, size=(25,)),\n",
    "    'longitude': np.random.uniform(low=7, high=8, size=(25,))\n",
    "})\n",
    "random_data.to_csv(r'./outputs/csv/random_data.csv', index=False)"
   ]
  },
  {
   "cell_type": "code",
   "execution_count": 29,
   "id": "b82b7e60-d466-4c27-8545-225515f09062",
   "metadata": {},
   "outputs": [
    {
     "name": "stdout",
     "output_type": "stream",
     "text": [
      "<class 'numpy.ndarray'>\n"
     ]
    }
   ],
   "source": [
    "n_features = 2\n",
    "random_data = pd.read_csv(r'./outputs/csv/random_data.csv')\n",
    "# Normalize the random data\n",
    "random_data['latitude'] = (random_data['latitude'] - random_data['latitude'].min()) / (random_data['latitude'].max() - random_data['latitude'].min())\n",
    "random_data['longitude'] = (random_data['longitude'] - random_data['longitude'].min()) / (random_data['longitude'].max() - random_data['longitude'].min())\n",
    "#random_data['activity_index'] = np.nan  # Placeholder for activity index\n",
    "random_data.to_csv(r'./outputs/csv/random_data_normalized.csv', index=False)\n",
    "\n",
    "# Prepare random data for prediction\n",
    "X_random, _ = prepare_data(random_data, include_target=False)\n",
    "\n",
    "#print(type(X_random))\n",
    "#print(X_random)\n",
    "X_random = X_random.reshape(-1, seq_length, 1, n_features, 1)\n"
   ]
  },
  {
   "cell_type": "code",
   "execution_count": 30,
   "id": "f93ff1a9-6cf7-4bf4-bf38-f6b4ffcdc332",
   "metadata": {},
   "outputs": [],
   "source": [
    "#X_random\n",
    "#X_df = pd.DataFrame(X_random.reshape(25,1))\n",
    "#X_df.to_csv(r'./outputs/X_random.csv', index=False)"
   ]
  },
  {
   "cell_type": "code",
   "execution_count": 40,
   "id": "9fa2f596-5540-4dc7-97fd-eb6346866bbc",
   "metadata": {},
   "outputs": [
    {
     "name": "stdout",
     "output_type": "stream",
     "text": [
      "1/1 [==============================] - 0s 20ms/step\n"
     ]
    }
   ],
   "source": [
    "# Make predictions on random data\n",
    "y_random_pred = model.predict(X_random)#.reshape(-1)"
   ]
  },
  {
   "cell_type": "code",
   "execution_count": 41,
   "id": "1f4de420-e793-4cc2-af64-3d9d44622021",
   "metadata": {},
   "outputs": [
    {
     "data": {
      "text/plain": [
       "(67,)"
      ]
     },
     "execution_count": 41,
     "metadata": {},
     "output_type": "execute_result"
    }
   ],
   "source": [
    "y_test.shape"
   ]
  },
  {
   "cell_type": "code",
   "execution_count": 42,
   "id": "717e9f9d-4f50-4864-a2eb-9e247257d3c1",
   "metadata": {},
   "outputs": [
    {
     "data": {
      "text/plain": [
       "((18, 7, 1, 2, 1), (18, 1, 2, 1))"
      ]
     },
     "execution_count": 42,
     "metadata": {},
     "output_type": "execute_result"
    }
   ],
   "source": [
    "y_random_pred = y_random_pred#[:,0]\n",
    "(X_random.shape), (y_random_pred.shape)"
   ]
  },
  {
   "cell_type": "code",
   "execution_count": 43,
   "id": "b2d33aa5-6eda-4cf3-8e87-6b83ebced93c",
   "metadata": {},
   "outputs": [
    {
     "ename": "ValueError",
     "evalue": "Per-column arrays must each be 1-dimensional",
     "output_type": "error",
     "traceback": [
      "\u001b[1;31m---------------------------------------------------------------------------\u001b[0m",
      "\u001b[1;31mValueError\u001b[0m                                Traceback (most recent call last)",
      "Cell \u001b[1;32mIn[43], line 4\u001b[0m\n\u001b[0;32m      1\u001b[0m random_data[\u001b[38;5;124m'\u001b[39m\u001b[38;5;124mdate\u001b[39m\u001b[38;5;124m'\u001b[39m] \u001b[38;5;241m=\u001b[39m pd\u001b[38;5;241m.\u001b[39mto_datetime(random_data[\u001b[38;5;124m'\u001b[39m\u001b[38;5;124mdate\u001b[39m\u001b[38;5;124m'\u001b[39m])\n\u001b[0;32m      3\u001b[0m \u001b[38;5;66;03m# Combine random data with predicted values\u001b[39;00m\n\u001b[1;32m----> 4\u001b[0m random_pred_df \u001b[38;5;241m=\u001b[39m \u001b[43mpd\u001b[49m\u001b[38;5;241;43m.\u001b[39;49m\u001b[43mDataFrame\u001b[49m\u001b[43m(\u001b[49m\u001b[43m{\u001b[49m\n\u001b[0;32m      5\u001b[0m \u001b[43m    \u001b[49m\u001b[38;5;124;43m'\u001b[39;49m\u001b[38;5;124;43mPred_Index\u001b[39;49m\u001b[38;5;124;43m'\u001b[39;49m\u001b[43m:\u001b[49m\u001b[43m \u001b[49m\u001b[43my_random_pred\u001b[49m\u001b[43m,\u001b[49m\n\u001b[0;32m      6\u001b[0m \u001b[43m    \u001b[49m\u001b[38;5;124;43m'\u001b[39;49m\u001b[38;5;124;43mLatitude\u001b[39;49m\u001b[38;5;124;43m'\u001b[39;49m\u001b[43m:\u001b[49m\u001b[43m \u001b[49m\u001b[43mrandom_data\u001b[49m\u001b[43m[\u001b[49m\u001b[38;5;124;43m'\u001b[39;49m\u001b[38;5;124;43mlatitude\u001b[39;49m\u001b[38;5;124;43m'\u001b[39;49m\u001b[43m]\u001b[49m\u001b[38;5;241;43m.\u001b[39;49m\u001b[43mvalues\u001b[49m\u001b[43m[\u001b[49m\u001b[38;5;241;43m-\u001b[39;49m\u001b[38;5;28;43mlen\u001b[39;49m\u001b[43m(\u001b[49m\u001b[43my_random_pred\u001b[49m\u001b[43m)\u001b[49m\u001b[43m:\u001b[49m\u001b[43m]\u001b[49m\u001b[43m,\u001b[49m\n\u001b[0;32m      7\u001b[0m \u001b[43m    \u001b[49m\u001b[38;5;124;43m'\u001b[39;49m\u001b[38;5;124;43mLongitude\u001b[39;49m\u001b[38;5;124;43m'\u001b[39;49m\u001b[43m:\u001b[49m\u001b[43m \u001b[49m\u001b[43mrandom_data\u001b[49m\u001b[43m[\u001b[49m\u001b[38;5;124;43m'\u001b[39;49m\u001b[38;5;124;43mlongitude\u001b[39;49m\u001b[38;5;124;43m'\u001b[39;49m\u001b[43m]\u001b[49m\u001b[38;5;241;43m.\u001b[39;49m\u001b[43mvalues\u001b[49m\u001b[43m[\u001b[49m\u001b[38;5;241;43m-\u001b[39;49m\u001b[38;5;28;43mlen\u001b[39;49m\u001b[43m(\u001b[49m\u001b[43my_random_pred\u001b[49m\u001b[43m)\u001b[49m\u001b[43m:\u001b[49m\u001b[43m]\u001b[49m\u001b[43m,\u001b[49m\n\u001b[0;32m      8\u001b[0m \u001b[43m    \u001b[49m\u001b[38;5;124;43m'\u001b[39;49m\u001b[38;5;124;43mDate\u001b[39;49m\u001b[38;5;124;43m'\u001b[39;49m\u001b[43m:\u001b[49m\u001b[43m \u001b[49m\u001b[43mrandom_data\u001b[49m\u001b[43m[\u001b[49m\u001b[38;5;124;43m'\u001b[39;49m\u001b[38;5;124;43mdate\u001b[39;49m\u001b[38;5;124;43m'\u001b[39;49m\u001b[43m]\u001b[49m\u001b[38;5;241;43m.\u001b[39;49m\u001b[43miloc\u001b[49m\u001b[43m[\u001b[49m\u001b[38;5;241;43m-\u001b[39;49m\u001b[38;5;28;43mlen\u001b[39;49m\u001b[43m(\u001b[49m\u001b[43my_random_pred\u001b[49m\u001b[43m)\u001b[49m\u001b[43m:\u001b[49m\u001b[43m]\u001b[49m\u001b[38;5;241;43m.\u001b[39;49m\u001b[43mdt\u001b[49m\u001b[38;5;241;43m.\u001b[39;49m\u001b[43mstrftime\u001b[49m\u001b[43m(\u001b[49m\u001b[38;5;124;43m'\u001b[39;49m\u001b[38;5;124;43m%\u001b[39;49m\u001b[38;5;124;43mY-\u001b[39;49m\u001b[38;5;124;43m%\u001b[39;49m\u001b[38;5;124;43mm-\u001b[39;49m\u001b[38;5;132;43;01m%d\u001b[39;49;00m\u001b[38;5;124;43m'\u001b[39;49m\u001b[43m)\u001b[49m\n\u001b[0;32m      9\u001b[0m \u001b[43m}\u001b[49m\u001b[43m)\u001b[49m\n\u001b[0;32m     11\u001b[0m \u001b[38;5;66;03m# Save random data and predicted values to CSV\u001b[39;00m\n\u001b[0;32m     12\u001b[0m random_pred_df\u001b[38;5;241m.\u001b[39mto_csv(\u001b[38;5;124m'\u001b[39m\u001b[38;5;124mrandom_pred_values.csv\u001b[39m\u001b[38;5;124m'\u001b[39m, index\u001b[38;5;241m=\u001b[39m\u001b[38;5;28;01mFalse\u001b[39;00m)\n",
      "File \u001b[1;32m~\\anaconda3\\envs\\python38\\lib\\site-packages\\pandas\\core\\frame.py:709\u001b[0m, in \u001b[0;36mDataFrame.__init__\u001b[1;34m(self, data, index, columns, dtype, copy)\u001b[0m\n\u001b[0;32m    703\u001b[0m     mgr \u001b[38;5;241m=\u001b[39m \u001b[38;5;28mself\u001b[39m\u001b[38;5;241m.\u001b[39m_init_mgr(\n\u001b[0;32m    704\u001b[0m         data, axes\u001b[38;5;241m=\u001b[39m{\u001b[38;5;124m\"\u001b[39m\u001b[38;5;124mindex\u001b[39m\u001b[38;5;124m\"\u001b[39m: index, \u001b[38;5;124m\"\u001b[39m\u001b[38;5;124mcolumns\u001b[39m\u001b[38;5;124m\"\u001b[39m: columns}, dtype\u001b[38;5;241m=\u001b[39mdtype, copy\u001b[38;5;241m=\u001b[39mcopy\n\u001b[0;32m    705\u001b[0m     )\n\u001b[0;32m    707\u001b[0m \u001b[38;5;28;01melif\u001b[39;00m \u001b[38;5;28misinstance\u001b[39m(data, \u001b[38;5;28mdict\u001b[39m):\n\u001b[0;32m    708\u001b[0m     \u001b[38;5;66;03m# GH#38939 de facto copy defaults to False only in non-dict cases\u001b[39;00m\n\u001b[1;32m--> 709\u001b[0m     mgr \u001b[38;5;241m=\u001b[39m \u001b[43mdict_to_mgr\u001b[49m\u001b[43m(\u001b[49m\u001b[43mdata\u001b[49m\u001b[43m,\u001b[49m\u001b[43m \u001b[49m\u001b[43mindex\u001b[49m\u001b[43m,\u001b[49m\u001b[43m \u001b[49m\u001b[43mcolumns\u001b[49m\u001b[43m,\u001b[49m\u001b[43m \u001b[49m\u001b[43mdtype\u001b[49m\u001b[38;5;241;43m=\u001b[39;49m\u001b[43mdtype\u001b[49m\u001b[43m,\u001b[49m\u001b[43m \u001b[49m\u001b[43mcopy\u001b[49m\u001b[38;5;241;43m=\u001b[39;49m\u001b[43mcopy\u001b[49m\u001b[43m,\u001b[49m\u001b[43m \u001b[49m\u001b[43mtyp\u001b[49m\u001b[38;5;241;43m=\u001b[39;49m\u001b[43mmanager\u001b[49m\u001b[43m)\u001b[49m\n\u001b[0;32m    710\u001b[0m \u001b[38;5;28;01melif\u001b[39;00m \u001b[38;5;28misinstance\u001b[39m(data, ma\u001b[38;5;241m.\u001b[39mMaskedArray):\n\u001b[0;32m    711\u001b[0m     \u001b[38;5;28;01mfrom\u001b[39;00m \u001b[38;5;21;01mnumpy\u001b[39;00m\u001b[38;5;21;01m.\u001b[39;00m\u001b[38;5;21;01mma\u001b[39;00m \u001b[38;5;28;01mimport\u001b[39;00m mrecords\n",
      "File \u001b[1;32m~\\anaconda3\\envs\\python38\\lib\\site-packages\\pandas\\core\\internals\\construction.py:481\u001b[0m, in \u001b[0;36mdict_to_mgr\u001b[1;34m(data, index, columns, dtype, typ, copy)\u001b[0m\n\u001b[0;32m    477\u001b[0m     \u001b[38;5;28;01melse\u001b[39;00m:\n\u001b[0;32m    478\u001b[0m         \u001b[38;5;66;03m# dtype check to exclude e.g. range objects, scalars\u001b[39;00m\n\u001b[0;32m    479\u001b[0m         arrays \u001b[38;5;241m=\u001b[39m [x\u001b[38;5;241m.\u001b[39mcopy() \u001b[38;5;28;01mif\u001b[39;00m \u001b[38;5;28mhasattr\u001b[39m(x, \u001b[38;5;124m\"\u001b[39m\u001b[38;5;124mdtype\u001b[39m\u001b[38;5;124m\"\u001b[39m) \u001b[38;5;28;01melse\u001b[39;00m x \u001b[38;5;28;01mfor\u001b[39;00m x \u001b[38;5;129;01min\u001b[39;00m arrays]\n\u001b[1;32m--> 481\u001b[0m \u001b[38;5;28;01mreturn\u001b[39;00m \u001b[43marrays_to_mgr\u001b[49m\u001b[43m(\u001b[49m\u001b[43marrays\u001b[49m\u001b[43m,\u001b[49m\u001b[43m \u001b[49m\u001b[43mcolumns\u001b[49m\u001b[43m,\u001b[49m\u001b[43m \u001b[49m\u001b[43mindex\u001b[49m\u001b[43m,\u001b[49m\u001b[43m \u001b[49m\u001b[43mdtype\u001b[49m\u001b[38;5;241;43m=\u001b[39;49m\u001b[43mdtype\u001b[49m\u001b[43m,\u001b[49m\u001b[43m \u001b[49m\u001b[43mtyp\u001b[49m\u001b[38;5;241;43m=\u001b[39;49m\u001b[43mtyp\u001b[49m\u001b[43m,\u001b[49m\u001b[43m \u001b[49m\u001b[43mconsolidate\u001b[49m\u001b[38;5;241;43m=\u001b[39;49m\u001b[43mcopy\u001b[49m\u001b[43m)\u001b[49m\n",
      "File \u001b[1;32m~\\anaconda3\\envs\\python38\\lib\\site-packages\\pandas\\core\\internals\\construction.py:115\u001b[0m, in \u001b[0;36marrays_to_mgr\u001b[1;34m(arrays, columns, index, dtype, verify_integrity, typ, consolidate)\u001b[0m\n\u001b[0;32m    112\u001b[0m \u001b[38;5;28;01mif\u001b[39;00m verify_integrity:\n\u001b[0;32m    113\u001b[0m     \u001b[38;5;66;03m# figure out the index, if necessary\u001b[39;00m\n\u001b[0;32m    114\u001b[0m     \u001b[38;5;28;01mif\u001b[39;00m index \u001b[38;5;129;01mis\u001b[39;00m \u001b[38;5;28;01mNone\u001b[39;00m:\n\u001b[1;32m--> 115\u001b[0m         index \u001b[38;5;241m=\u001b[39m \u001b[43m_extract_index\u001b[49m\u001b[43m(\u001b[49m\u001b[43marrays\u001b[49m\u001b[43m)\u001b[49m\n\u001b[0;32m    116\u001b[0m     \u001b[38;5;28;01melse\u001b[39;00m:\n\u001b[0;32m    117\u001b[0m         index \u001b[38;5;241m=\u001b[39m ensure_index(index)\n",
      "File \u001b[1;32m~\\anaconda3\\envs\\python38\\lib\\site-packages\\pandas\\core\\internals\\construction.py:642\u001b[0m, in \u001b[0;36m_extract_index\u001b[1;34m(data)\u001b[0m\n\u001b[0;32m    640\u001b[0m         raw_lengths\u001b[38;5;241m.\u001b[39mappend(\u001b[38;5;28mlen\u001b[39m(val))\n\u001b[0;32m    641\u001b[0m     \u001b[38;5;28;01melif\u001b[39;00m \u001b[38;5;28misinstance\u001b[39m(val, np\u001b[38;5;241m.\u001b[39mndarray) \u001b[38;5;129;01mand\u001b[39;00m val\u001b[38;5;241m.\u001b[39mndim \u001b[38;5;241m>\u001b[39m \u001b[38;5;241m1\u001b[39m:\n\u001b[1;32m--> 642\u001b[0m         \u001b[38;5;28;01mraise\u001b[39;00m \u001b[38;5;167;01mValueError\u001b[39;00m(\u001b[38;5;124m\"\u001b[39m\u001b[38;5;124mPer-column arrays must each be 1-dimensional\u001b[39m\u001b[38;5;124m\"\u001b[39m)\n\u001b[0;32m    644\u001b[0m \u001b[38;5;28;01mif\u001b[39;00m \u001b[38;5;129;01mnot\u001b[39;00m indexes \u001b[38;5;129;01mand\u001b[39;00m \u001b[38;5;129;01mnot\u001b[39;00m raw_lengths:\n\u001b[0;32m    645\u001b[0m     \u001b[38;5;28;01mraise\u001b[39;00m \u001b[38;5;167;01mValueError\u001b[39;00m(\u001b[38;5;124m\"\u001b[39m\u001b[38;5;124mIf using all scalar values, you must pass an index\u001b[39m\u001b[38;5;124m\"\u001b[39m)\n",
      "\u001b[1;31mValueError\u001b[0m: Per-column arrays must each be 1-dimensional"
     ]
    }
   ],
   "source": [
    "\n",
    "random_data['date'] = pd.to_datetime(random_data['date'])\n",
    "\n",
    "# Combine random data with predicted values\n",
    "random_pred_df = pd.DataFrame({\n",
    "    'Pred_Index': y_random_pred,\n",
    "    'Latitude': random_data['latitude'].values[-len(y_random_pred):],\n",
    "    'Longitude': random_data['longitude'].values[-len(y_random_pred):],\n",
    "    'Date': random_data['date'].iloc[-len(y_random_pred):].dt.strftime('%Y-%m-%d')\n",
    "})\n",
    "\n",
    "# Save random data and predicted values to CSV\n",
    "random_pred_df.to_csv('./outputs/csv/random_pred_values.csv', index=False)\n",
    "\n",
    "# Convert random data CSV to shapefile\n",
    "geometry_random = [Point(xy) for xy in zip(random_pred_df['Longitude'], random_pred_df['Latitude'])]\n",
    "gdf_random = gpd.GeoDataFrame(random_pred_df, geometry=geometry_random)\n",
    "gdf_random.crs = {'init': 'epsg:4326'}  # Assuming WGS84 coordinate reference system\n",
    "gdf_random.to_file('./outputs/shp/random_predicted_values.shp')\n"
   ]
  },
  {
   "cell_type": "code",
   "execution_count": null,
   "id": "10478570-3ecd-4f5d-b607-d3ae14a5e6dc",
   "metadata": {},
   "outputs": [],
   "source": []
  },
  {
   "cell_type": "code",
   "execution_count": null,
   "id": "f1cc8425-e4ff-4469-8e4d-5ba92372ef49",
   "metadata": {},
   "outputs": [],
   "source": []
  },
  {
   "cell_type": "code",
   "execution_count": null,
   "id": "6ee7629d-c5bb-4ad7-90bf-688eae532bff",
   "metadata": {},
   "outputs": [],
   "source": []
  },
  {
   "cell_type": "code",
   "execution_count": null,
   "id": "d39979d5-b2df-4d70-a17d-d59ddcdfdcf8",
   "metadata": {},
   "outputs": [],
   "source": []
  },
  {
   "cell_type": "code",
   "execution_count": null,
   "id": "109ff45b-38b0-41e7-b558-c80f03832b10",
   "metadata": {},
   "outputs": [],
   "source": [
    "import numpy as np\n",
    "import pandas as pd\n",
    "import matplotlib.pyplot as plt\n",
    "from sklearn.model_selection import train_test_split\n",
    "from sklearn.metrics import mean_squared_error, r2_score\n",
    "from tensorflow.keras.models import Sequential\n",
    "from tensorflow.keras.layers import ConvLSTM2D, Dense\n",
    "from tensorflow.keras.optimizers import Adam\n",
    "from tensorflow.keras.layers import BatchNormalization, MaxPooling2D\n",
    "from shapely.geometry import Point\n",
    "import geopandas as gpd\n",
    "import os\n",
    "import random\n",
    "\n",
    "# Load the data from CSV file\n",
    "data = pd.read_csv(r\"./Daily_HAI_Mean.csv\")\n",
    "\n",
    "# Preprocess the data\n",
    "data['date'] = pd.to_datetime(data['ds'])\n",
    "data['latitude'] = (data['Lat'] - data['Lat'].min()) / (data['Lat'].max() - data['Lat'].min())\n",
    "data['longitude'] = (data['Lon'] - data['Lon'].min()) / (data['Lon'].max() - data['Lon'].min())\n",
    "data['activity_index'] = (data['y'] - data['y'].min()) / (data['y'].max() - data['y'].min())\n",
    "\n",
    "# Split data into train and test sets (considering dates)\n",
    "train_data, test_data = train_test_split(data, test_size=0.2, random_state=42)\n",
    "\n",
    "# Define parameters\n",
    "seq_length = 7  # Length of sequence for each sample\n",
    "n_features = 3  # Number of features (latitude, longitude, activity_index)\n",
    "n_filters = 32  # Number of filters in ConvLSTM layers\n",
    "kernel_size = (1, 1)  # Kernel size for ConvLSTM layers\n",
    "\n",
    "# Prepare the data for ConvLSTM\n",
    "def prepare_data(data):\n",
    "    X = []\n",
    "    y = []\n",
    "    data = data.sort_values(by='date')  # Sort data by date\n",
    "    for i in range(len(data) - seq_length):\n",
    "        X.append(data[['latitude', 'longitude', 'activity_index']].iloc[i:i+seq_length].values)\n",
    "        y.append(data['activity_index'].iloc[i+seq_length])\n",
    "    X = np.array(X)\n",
    "    y = np.array(y)\n",
    "    return X, y\n",
    "\n",
    "X_train, y_train = prepare_data(train_data)\n",
    "X_test, y_test = prepare_data(test_data)\n",
    "\n",
    "X_train, y_train = prepare_data(train_data)\n",
    "X_test, y_test = prepare_data(test_data)\n",
    "\n",
    "# Reshape the data for ConvLSTM\n",
    "print(\"Before reshaping:\")\n",
    "print(\"X_train shape:\", X_train.shape)\n",
    "print(\"X_test shape:\", X_test.shape)\n",
    "\n",
    "X_train = X_train.reshape(-1, seq_length, 1, n_features, 1)\n",
    "X_test = X_test.reshape(-1, seq_length, 1,  n_features, 1)\n",
    "\n",
    "print(\"After reshaping:\")\n",
    "print(\"X_train shape:\", X_train.shape)\n",
    "print(\"X_test shape:\", X_test.shape)\n",
    "\n",
    "# Build the ConvLSTM model\n",
    "model = Sequential([\n",
    "    ConvLSTM2D(filters=n_filters, kernel_size=kernel_size, activation='relu', input_shape=(seq_length, 1, n_features, 1), return_sequences=True),\n",
    "    BatchNormalization(),\n",
    "    #MaxPooling2D(pool_size=(2, 2)),\n",
    "    \n",
    "    ConvLSTM2D(filters=64, kernel_size=kernel_size, activation='relu', return_sequences=True),\n",
    "    BatchNormalization(),\n",
    "    #MaxPooling2D(pool_size=(2, 2)),\n",
    "    \n",
    "    ConvLSTM2D(filters=128, kernel_size=kernel_size, activation='relu', return_sequences=True),\n",
    "    BatchNormalization(),\n",
    "    #MaxPooling2D(pool_size=(2, 2)),\n",
    "    \n",
    "    ConvLSTM2D(filters=256, kernel_size=kernel_size, activation='relu', return_sequences=True),\n",
    "    BatchNormalization(),\n",
    "    #MaxPooling2D(pool_size=(2, 2)),\n",
    "    \n",
    "    ConvLSTM2D(filters=512, kernel_size=kernel_size, activation='relu'),\n",
    "    BatchNormalization(),\n",
    "    #MaxPooling2D(pool_size=(2, 2)),\n",
    "    \n",
    "    Dense(1)  # Output layer\n",
    "])\n",
    "\n",
    "\n",
    "# Compile the model\n",
    "model.compile(optimizer=Adam(), loss='mse')\n",
    "\n",
    "# Train the model\n",
    "history = model.fit(X_train, y_train, epochs=50, batch_size=32, validation_data=(X_test, y_test))\n",
    "\n",
    "# Evaluate the model\n",
    "loss = model.evaluate(X_test, y_test)\n",
    "print(\"Test Loss:\", loss)\n",
    "\n",
    "# Make predictions\n",
    "y_pred = model.predict(X_test).reshape(-1)\n",
    "\n",
    "# Compute evaluation metrics\n",
    "mse = mean_squared_error(y_test, y_pred)\n",
    "r2 = r2_score(y_test, y_pred)\n",
    "\n",
    "# Plot loss vs validation loss\n",
    "plt.plot(history.history['loss'], label='Loss')\n",
    "plt.plot(history.history['val_loss'], label='Validation Loss')\n",
    "plt.xlabel('Epoch')\n",
    "plt.ylabel('Loss')\n",
    "plt.title('Training Loss vs Validation Loss')\n",
    "plt.legend()\n",
    "plt.show()\n",
    "\n",
    "# Plot actual vs predicted\n",
    "plt.figure(figsize=(10, 6))\n",
    "plt.scatter(y_test, y_pred, color='blue')\n",
    "plt.plot([min(y_test), max(y_test)], [min(y_test), max(y_test)], color='red', linestyle='--')\n",
    "plt.xlabel('Actual')\n",
    "plt.ylabel('Predicted')\n",
    "plt.title('Actual vs Predicted')\n",
    "plt.grid(True)\n",
    "plt.show()\n",
    "\n",
    "# Plot residuals\n",
    "residuals = y_test - y_pred\n",
    "plt.figure(figsize=(10, 6))\n",
    "plt.scatter(y_test, residuals, color='blue')\n",
    "plt.axhline(y=0, color='red', linestyle='--')\n",
    "plt.xlabel('Actual')\n",
    "plt.ylabel('Residuals')\n",
    "plt.title('Residuals Plot')\n",
    "plt.grid(True)\n",
    "plt.show()\n",
    "\n",
    "# Print evaluation metrics\n",
    "print(\"Mean Squared Error:\", mse)\n",
    "print(\"R-squared:\", r2)\n",
    "\n",
    "# Save test data and predicted values to CSV\n",
    "test_df = pd.DataFrame({'Actual_Activity_Index': y_test, 'Predicted_Activity_Index': y_pred,\n",
    "                        'Latitude': test_data['Lat'][-len(y_test):].values,\n",
    "                        'Longitude': test_data['Lon'][-len(y_test):].values,\n",
    "                        'Date': test_data['date'][-len(y_test):].values})\n",
    "test_df.to_csv('test_predicted_values.csv', index=False)\n",
    "\n",
    "# Convert CSV to shapefile\n",
    "geometry = [Point(xy) for xy in zip(test_df['Longitude'], test_df['Latitude'])]\n",
    "gdf = gpd.GeoDataFrame(test_df, geometry=geometry)\n",
    "gdf.crs = {'init': 'epsg:4326'}  # Assuming WGS84 coordinate reference system\n",
    "gdf.to_file('test_predicted_values.shp')\n",
    "\n",
    "# Generate random data for prediction\n",
    "random_data = pd.DataFrame({\n",
    "    'Date': pd.date_range(start='2023-01-01', end='2023-01-10'),\n",
    "    'Lat': np.random.uniform(low=data['Lat'].min(), high=data['Lat'].max(), size=(10,)),\n",
    "    'Lon': np.random.uniform(low=data['Lon'].min(), high=data['Lon'].max(), size=(10,))\n",
    "})\n",
    "\n",
    "# Prepare random data for prediction\n",
    "X_random, _ = prepare_data(random_data)\n",
    "X_random = X_random.reshape(-1, seq_length, 1, n_features, 1)\n",
    "\n",
    "# Make predictions on random data\n",
    "y_random_pred = model.predict(X_random).reshape(-1)\n",
    "\n",
    "# Combine random data with predicted values\n",
    "random_pred_df = pd.DataFrame({'Predicted_Activity_Index': y_random_pred,\n",
    "                               'Latitude': random_data['Lat'].values,\n",
    "                               'Longitude': random_data['Lon'].values,\n",
    "                               'Date': random_data['Date'].values})\n",
    "\n",
    "# Save random data and predicted values to CSV\n",
    "random_pred_df.to_csv('random_predicted_values.csv', index=False)\n",
    "\n",
    "# Convert random data CSV to shapefile\n",
    "geometry_random = [Point(xy) for xy in zip(random_pred_df['Longitude'], random_pred_df['Latitude'])]\n",
    "gdf_random = gpd.GeoDataFrame(random_pred_df, geometry=geometry_random)\n",
    "gdf_random.crs = {'init': 'epsg:4326'}  # Assuming WGS84 coordinate reference system\n",
    "gdf_random.to_file('random_predicted_values.shp')\n"
   ]
  },
  {
   "cell_type": "code",
   "execution_count": null,
   "id": "5195c31b-9a5d-4f08-aeb4-086e564e402b",
   "metadata": {},
   "outputs": [],
   "source": []
  },
  {
   "cell_type": "code",
   "execution_count": null,
   "id": "4860676d-6147-4b6f-9c5e-32e5da8cdbc4",
   "metadata": {},
   "outputs": [],
   "source": []
  },
  {
   "cell_type": "code",
   "execution_count": null,
   "id": "b0ff53d2-51b5-4680-b7c9-d483f76d6fa8",
   "metadata": {},
   "outputs": [],
   "source": []
  },
  {
   "cell_type": "code",
   "execution_count": null,
   "id": "602080ed-bcf5-45ae-96e9-6cb5a8939d6a",
   "metadata": {},
   "outputs": [],
   "source": []
  },
  {
   "cell_type": "code",
   "execution_count": null,
   "id": "4c5897bd-ce8d-4668-99d1-76de94f3f1c5",
   "metadata": {},
   "outputs": [],
   "source": []
  },
  {
   "cell_type": "code",
   "execution_count": null,
   "id": "b7116f1a-0231-480b-9bd2-402bd79d5413",
   "metadata": {},
   "outputs": [],
   "source": []
  },
  {
   "cell_type": "code",
   "execution_count": null,
   "id": "d1bd64cf-099b-4aa2-b696-f3de48b7d81a",
   "metadata": {},
   "outputs": [],
   "source": []
  },
  {
   "cell_type": "code",
   "execution_count": null,
   "id": "47486516-5e84-4a0b-95a8-683945fbed4e",
   "metadata": {},
   "outputs": [],
   "source": []
  },
  {
   "cell_type": "code",
   "execution_count": null,
   "id": "3f3577ce-94a4-4ffe-98fa-d40e805f5a50",
   "metadata": {},
   "outputs": [],
   "source": []
  },
  {
   "cell_type": "code",
   "execution_count": null,
   "id": "287fda99-a023-4a93-b523-504fe31ad3bf",
   "metadata": {},
   "outputs": [],
   "source": []
  },
  {
   "cell_type": "code",
   "execution_count": null,
   "id": "b05c6ca6-b814-48dc-a42e-a2de8a2355cb",
   "metadata": {},
   "outputs": [],
   "source": []
  }
 ],
 "metadata": {
  "kernelspec": {
   "display_name": "Python 3 (ipykernel)",
   "language": "python",
   "name": "python3"
  },
  "language_info": {
   "codemirror_mode": {
    "name": "ipython",
    "version": 3
   },
   "file_extension": ".py",
   "mimetype": "text/x-python",
   "name": "python",
   "nbconvert_exporter": "python",
   "pygments_lexer": "ipython3",
   "version": "3.8.19"
  }
 },
 "nbformat": 4,
 "nbformat_minor": 5
}
